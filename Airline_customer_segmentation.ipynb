{
  "nbformat": 4,
  "nbformat_minor": 0,
  "metadata": {
    "colab": {
      "provenance": [],
      "authorship_tag": "ABX9TyMsfec/O6U06bK+q66Biyt+",
      "include_colab_link": true
    },
    "kernelspec": {
      "name": "python3",
      "display_name": "Python 3"
    },
    "language_info": {
      "name": "python"
    }
  },
  "cells": [
    {
      "cell_type": "markdown",
      "metadata": {
        "id": "view-in-github",
        "colab_type": "text"
      },
      "source": [
        "<a href=\"https://colab.research.google.com/github/Harish03101998/Airline-customer-segmentation/blob/main/Airline_customer_segmentation.ipynb\" target=\"_parent\"><img src=\"https://colab.research.google.com/assets/colab-badge.svg\" alt=\"Open In Colab\"/></a>"
      ]
    },
    {
      "cell_type": "markdown",
      "source": [
        "Importing pandas"
      ],
      "metadata": {
        "id": "DoAsnZUxz9nd"
      }
    },
    {
      "cell_type": "code",
      "execution_count": 2,
      "metadata": {
        "id": "aqFho4gMxnl-"
      },
      "outputs": [],
      "source": [
        "import pandas as pd"
      ]
    },
    {
      "cell_type": "code",
      "source": [
        "data = pd.read_csv('flight.csv')"
      ],
      "metadata": {
        "id": "j96d1T4Lxug1"
      },
      "execution_count": 3,
      "outputs": []
    },
    {
      "cell_type": "code",
      "source": [
        "data.shape"
      ],
      "metadata": {
        "colab": {
          "base_uri": "https://localhost:8080/"
        },
        "id": "DwdlLhTVyMBl",
        "outputId": "b0b2f1c9-cfc1-4754-b45a-850ef3ca2e92"
      },
      "execution_count": 5,
      "outputs": [
        {
          "output_type": "execute_result",
          "data": {
            "text/plain": [
              "(62988, 23)"
            ]
          },
          "metadata": {},
          "execution_count": 5
        }
      ]
    },
    {
      "cell_type": "code",
      "source": [
        "data.head()"
      ],
      "metadata": {
        "colab": {
          "base_uri": "https://localhost:8080/",
          "height": 317
        },
        "id": "jxqDlddmyQk8",
        "outputId": "cd5e5f05-59c5-4121-f9cd-459d278b5053"
      },
      "execution_count": 6,
      "outputs": [
        {
          "output_type": "execute_result",
          "data": {
            "text/plain": [
              "   MEMBER_NO   FFP_DATE FIRST_FLIGHT_DATE GENDER  FFP_TIER    WORK_CITY  \\\n",
              "0      54993  11/2/2006        12/24/2008   Male         6            .   \n",
              "1      28065  2/19/2007          8/3/2007   Male         6          NaN   \n",
              "2      55106   2/1/2007         8/30/2007   Male         6            .   \n",
              "3      21189  8/22/2008         8/23/2008   Male         5  Los Angeles   \n",
              "4      39546  4/10/2009         4/15/2009   Male         6      guiyang   \n",
              "\n",
              "  WORK_PROVINCE WORK_COUNTRY   AGE  LOAD_TIME  ...  SUM_YR_2  SEG_KM_SUM  \\\n",
              "0       beijing           CN  31.0  3/31/2014  ...  234188.0      580717   \n",
              "1       beijing           CN  42.0  3/31/2014  ...  167434.0      293678   \n",
              "2       beijing           CN  40.0  3/31/2014  ...  164982.0      283712   \n",
              "3            CA           US  64.0  3/31/2014  ...  125500.0      281336   \n",
              "4       guizhou           CN  48.0  3/31/2014  ...  130702.0      309928   \n",
              "\n",
              "   LAST_FLIGHT_DATE  LAST_TO_END  AVG_INTERVAL MAX_INTERVAL  EXCHANGE_COUNT  \\\n",
              "0         3/31/2014            1      3.483254           18              34   \n",
              "1         3/25/2014            7      5.194245           17              29   \n",
              "2         3/21/2014           11      5.298507           18              20   \n",
              "3        12/26/2013           97     27.863636           73              11   \n",
              "4         3/27/2014            5      4.788079           47              27   \n",
              "\n",
              "   avg_discount  Points_Sum  Point_NotFlight  \n",
              "0      0.961639      619760               50  \n",
              "1      1.252314      415768               33  \n",
              "2      1.254676      406361               26  \n",
              "3      1.090870      372204               12  \n",
              "4      0.970658      338813               39  \n",
              "\n",
              "[5 rows x 23 columns]"
            ],
            "text/html": [
              "\n",
              "\n",
              "  <div id=\"df-0696eb91-13f2-435e-ac41-542e989a1737\">\n",
              "    <div class=\"colab-df-container\">\n",
              "      <div>\n",
              "<style scoped>\n",
              "    .dataframe tbody tr th:only-of-type {\n",
              "        vertical-align: middle;\n",
              "    }\n",
              "\n",
              "    .dataframe tbody tr th {\n",
              "        vertical-align: top;\n",
              "    }\n",
              "\n",
              "    .dataframe thead th {\n",
              "        text-align: right;\n",
              "    }\n",
              "</style>\n",
              "<table border=\"1\" class=\"dataframe\">\n",
              "  <thead>\n",
              "    <tr style=\"text-align: right;\">\n",
              "      <th></th>\n",
              "      <th>MEMBER_NO</th>\n",
              "      <th>FFP_DATE</th>\n",
              "      <th>FIRST_FLIGHT_DATE</th>\n",
              "      <th>GENDER</th>\n",
              "      <th>FFP_TIER</th>\n",
              "      <th>WORK_CITY</th>\n",
              "      <th>WORK_PROVINCE</th>\n",
              "      <th>WORK_COUNTRY</th>\n",
              "      <th>AGE</th>\n",
              "      <th>LOAD_TIME</th>\n",
              "      <th>...</th>\n",
              "      <th>SUM_YR_2</th>\n",
              "      <th>SEG_KM_SUM</th>\n",
              "      <th>LAST_FLIGHT_DATE</th>\n",
              "      <th>LAST_TO_END</th>\n",
              "      <th>AVG_INTERVAL</th>\n",
              "      <th>MAX_INTERVAL</th>\n",
              "      <th>EXCHANGE_COUNT</th>\n",
              "      <th>avg_discount</th>\n",
              "      <th>Points_Sum</th>\n",
              "      <th>Point_NotFlight</th>\n",
              "    </tr>\n",
              "  </thead>\n",
              "  <tbody>\n",
              "    <tr>\n",
              "      <th>0</th>\n",
              "      <td>54993</td>\n",
              "      <td>11/2/2006</td>\n",
              "      <td>12/24/2008</td>\n",
              "      <td>Male</td>\n",
              "      <td>6</td>\n",
              "      <td>.</td>\n",
              "      <td>beijing</td>\n",
              "      <td>CN</td>\n",
              "      <td>31.0</td>\n",
              "      <td>3/31/2014</td>\n",
              "      <td>...</td>\n",
              "      <td>234188.0</td>\n",
              "      <td>580717</td>\n",
              "      <td>3/31/2014</td>\n",
              "      <td>1</td>\n",
              "      <td>3.483254</td>\n",
              "      <td>18</td>\n",
              "      <td>34</td>\n",
              "      <td>0.961639</td>\n",
              "      <td>619760</td>\n",
              "      <td>50</td>\n",
              "    </tr>\n",
              "    <tr>\n",
              "      <th>1</th>\n",
              "      <td>28065</td>\n",
              "      <td>2/19/2007</td>\n",
              "      <td>8/3/2007</td>\n",
              "      <td>Male</td>\n",
              "      <td>6</td>\n",
              "      <td>NaN</td>\n",
              "      <td>beijing</td>\n",
              "      <td>CN</td>\n",
              "      <td>42.0</td>\n",
              "      <td>3/31/2014</td>\n",
              "      <td>...</td>\n",
              "      <td>167434.0</td>\n",
              "      <td>293678</td>\n",
              "      <td>3/25/2014</td>\n",
              "      <td>7</td>\n",
              "      <td>5.194245</td>\n",
              "      <td>17</td>\n",
              "      <td>29</td>\n",
              "      <td>1.252314</td>\n",
              "      <td>415768</td>\n",
              "      <td>33</td>\n",
              "    </tr>\n",
              "    <tr>\n",
              "      <th>2</th>\n",
              "      <td>55106</td>\n",
              "      <td>2/1/2007</td>\n",
              "      <td>8/30/2007</td>\n",
              "      <td>Male</td>\n",
              "      <td>6</td>\n",
              "      <td>.</td>\n",
              "      <td>beijing</td>\n",
              "      <td>CN</td>\n",
              "      <td>40.0</td>\n",
              "      <td>3/31/2014</td>\n",
              "      <td>...</td>\n",
              "      <td>164982.0</td>\n",
              "      <td>283712</td>\n",
              "      <td>3/21/2014</td>\n",
              "      <td>11</td>\n",
              "      <td>5.298507</td>\n",
              "      <td>18</td>\n",
              "      <td>20</td>\n",
              "      <td>1.254676</td>\n",
              "      <td>406361</td>\n",
              "      <td>26</td>\n",
              "    </tr>\n",
              "    <tr>\n",
              "      <th>3</th>\n",
              "      <td>21189</td>\n",
              "      <td>8/22/2008</td>\n",
              "      <td>8/23/2008</td>\n",
              "      <td>Male</td>\n",
              "      <td>5</td>\n",
              "      <td>Los Angeles</td>\n",
              "      <td>CA</td>\n",
              "      <td>US</td>\n",
              "      <td>64.0</td>\n",
              "      <td>3/31/2014</td>\n",
              "      <td>...</td>\n",
              "      <td>125500.0</td>\n",
              "      <td>281336</td>\n",
              "      <td>12/26/2013</td>\n",
              "      <td>97</td>\n",
              "      <td>27.863636</td>\n",
              "      <td>73</td>\n",
              "      <td>11</td>\n",
              "      <td>1.090870</td>\n",
              "      <td>372204</td>\n",
              "      <td>12</td>\n",
              "    </tr>\n",
              "    <tr>\n",
              "      <th>4</th>\n",
              "      <td>39546</td>\n",
              "      <td>4/10/2009</td>\n",
              "      <td>4/15/2009</td>\n",
              "      <td>Male</td>\n",
              "      <td>6</td>\n",
              "      <td>guiyang</td>\n",
              "      <td>guizhou</td>\n",
              "      <td>CN</td>\n",
              "      <td>48.0</td>\n",
              "      <td>3/31/2014</td>\n",
              "      <td>...</td>\n",
              "      <td>130702.0</td>\n",
              "      <td>309928</td>\n",
              "      <td>3/27/2014</td>\n",
              "      <td>5</td>\n",
              "      <td>4.788079</td>\n",
              "      <td>47</td>\n",
              "      <td>27</td>\n",
              "      <td>0.970658</td>\n",
              "      <td>338813</td>\n",
              "      <td>39</td>\n",
              "    </tr>\n",
              "  </tbody>\n",
              "</table>\n",
              "<p>5 rows × 23 columns</p>\n",
              "</div>\n",
              "      <button class=\"colab-df-convert\" onclick=\"convertToInteractive('df-0696eb91-13f2-435e-ac41-542e989a1737')\"\n",
              "              title=\"Convert this dataframe to an interactive table.\"\n",
              "              style=\"display:none;\">\n",
              "\n",
              "  <svg xmlns=\"http://www.w3.org/2000/svg\" height=\"24px\"viewBox=\"0 0 24 24\"\n",
              "       width=\"24px\">\n",
              "    <path d=\"M0 0h24v24H0V0z\" fill=\"none\"/>\n",
              "    <path d=\"M18.56 5.44l.94 2.06.94-2.06 2.06-.94-2.06-.94-.94-2.06-.94 2.06-2.06.94zm-11 1L8.5 8.5l.94-2.06 2.06-.94-2.06-.94L8.5 2.5l-.94 2.06-2.06.94zm10 10l.94 2.06.94-2.06 2.06-.94-2.06-.94-.94-2.06-.94 2.06-2.06.94z\"/><path d=\"M17.41 7.96l-1.37-1.37c-.4-.4-.92-.59-1.43-.59-.52 0-1.04.2-1.43.59L10.3 9.45l-7.72 7.72c-.78.78-.78 2.05 0 2.83L4 21.41c.39.39.9.59 1.41.59.51 0 1.02-.2 1.41-.59l7.78-7.78 2.81-2.81c.8-.78.8-2.07 0-2.86zM5.41 20L4 18.59l7.72-7.72 1.47 1.35L5.41 20z\"/>\n",
              "  </svg>\n",
              "      </button>\n",
              "\n",
              "\n",
              "\n",
              "    <div id=\"df-872b67ca-f014-48f5-a746-ff1b03d95cee\">\n",
              "      <button class=\"colab-df-quickchart\" onclick=\"quickchart('df-872b67ca-f014-48f5-a746-ff1b03d95cee')\"\n",
              "              title=\"Suggest charts.\"\n",
              "              style=\"display:none;\">\n",
              "\n",
              "<svg xmlns=\"http://www.w3.org/2000/svg\" height=\"24px\"viewBox=\"0 0 24 24\"\n",
              "     width=\"24px\">\n",
              "    <g>\n",
              "        <path d=\"M19 3H5c-1.1 0-2 .9-2 2v14c0 1.1.9 2 2 2h14c1.1 0 2-.9 2-2V5c0-1.1-.9-2-2-2zM9 17H7v-7h2v7zm4 0h-2V7h2v10zm4 0h-2v-4h2v4z\"/>\n",
              "    </g>\n",
              "</svg>\n",
              "      </button>\n",
              "    </div>\n",
              "\n",
              "<style>\n",
              "  .colab-df-quickchart {\n",
              "    background-color: #E8F0FE;\n",
              "    border: none;\n",
              "    border-radius: 50%;\n",
              "    cursor: pointer;\n",
              "    display: none;\n",
              "    fill: #1967D2;\n",
              "    height: 32px;\n",
              "    padding: 0 0 0 0;\n",
              "    width: 32px;\n",
              "  }\n",
              "\n",
              "  .colab-df-quickchart:hover {\n",
              "    background-color: #E2EBFA;\n",
              "    box-shadow: 0px 1px 2px rgba(60, 64, 67, 0.3), 0px 1px 3px 1px rgba(60, 64, 67, 0.15);\n",
              "    fill: #174EA6;\n",
              "  }\n",
              "\n",
              "  [theme=dark] .colab-df-quickchart {\n",
              "    background-color: #3B4455;\n",
              "    fill: #D2E3FC;\n",
              "  }\n",
              "\n",
              "  [theme=dark] .colab-df-quickchart:hover {\n",
              "    background-color: #434B5C;\n",
              "    box-shadow: 0px 1px 3px 1px rgba(0, 0, 0, 0.15);\n",
              "    filter: drop-shadow(0px 1px 2px rgba(0, 0, 0, 0.3));\n",
              "    fill: #FFFFFF;\n",
              "  }\n",
              "</style>\n",
              "\n",
              "    <script>\n",
              "      async function quickchart(key) {\n",
              "        const containerElement = document.querySelector('#' + key);\n",
              "        const charts = await google.colab.kernel.invokeFunction(\n",
              "            'suggestCharts', [key], {});\n",
              "      }\n",
              "    </script>\n",
              "\n",
              "      <script>\n",
              "\n",
              "function displayQuickchartButton(domScope) {\n",
              "  let quickchartButtonEl =\n",
              "    domScope.querySelector('#df-872b67ca-f014-48f5-a746-ff1b03d95cee button.colab-df-quickchart');\n",
              "  quickchartButtonEl.style.display =\n",
              "    google.colab.kernel.accessAllowed ? 'block' : 'none';\n",
              "}\n",
              "\n",
              "        displayQuickchartButton(document);\n",
              "      </script>\n",
              "      <style>\n",
              "    .colab-df-container {\n",
              "      display:flex;\n",
              "      flex-wrap:wrap;\n",
              "      gap: 12px;\n",
              "    }\n",
              "\n",
              "    .colab-df-convert {\n",
              "      background-color: #E8F0FE;\n",
              "      border: none;\n",
              "      border-radius: 50%;\n",
              "      cursor: pointer;\n",
              "      display: none;\n",
              "      fill: #1967D2;\n",
              "      height: 32px;\n",
              "      padding: 0 0 0 0;\n",
              "      width: 32px;\n",
              "    }\n",
              "\n",
              "    .colab-df-convert:hover {\n",
              "      background-color: #E2EBFA;\n",
              "      box-shadow: 0px 1px 2px rgba(60, 64, 67, 0.3), 0px 1px 3px 1px rgba(60, 64, 67, 0.15);\n",
              "      fill: #174EA6;\n",
              "    }\n",
              "\n",
              "    [theme=dark] .colab-df-convert {\n",
              "      background-color: #3B4455;\n",
              "      fill: #D2E3FC;\n",
              "    }\n",
              "\n",
              "    [theme=dark] .colab-df-convert:hover {\n",
              "      background-color: #434B5C;\n",
              "      box-shadow: 0px 1px 3px 1px rgba(0, 0, 0, 0.15);\n",
              "      filter: drop-shadow(0px 1px 2px rgba(0, 0, 0, 0.3));\n",
              "      fill: #FFFFFF;\n",
              "    }\n",
              "  </style>\n",
              "\n",
              "      <script>\n",
              "        const buttonEl =\n",
              "          document.querySelector('#df-0696eb91-13f2-435e-ac41-542e989a1737 button.colab-df-convert');\n",
              "        buttonEl.style.display =\n",
              "          google.colab.kernel.accessAllowed ? 'block' : 'none';\n",
              "\n",
              "        async function convertToInteractive(key) {\n",
              "          const element = document.querySelector('#df-0696eb91-13f2-435e-ac41-542e989a1737');\n",
              "          const dataTable =\n",
              "            await google.colab.kernel.invokeFunction('convertToInteractive',\n",
              "                                                     [key], {});\n",
              "          if (!dataTable) return;\n",
              "\n",
              "          const docLinkHtml = 'Like what you see? Visit the ' +\n",
              "            '<a target=\"_blank\" href=https://colab.research.google.com/notebooks/data_table.ipynb>data table notebook</a>'\n",
              "            + ' to learn more about interactive tables.';\n",
              "          element.innerHTML = '';\n",
              "          dataTable['output_type'] = 'display_data';\n",
              "          await google.colab.output.renderOutput(dataTable, element);\n",
              "          const docLink = document.createElement('div');\n",
              "          docLink.innerHTML = docLinkHtml;\n",
              "          element.appendChild(docLink);\n",
              "        }\n",
              "      </script>\n",
              "    </div>\n",
              "  </div>\n"
            ]
          },
          "metadata": {},
          "execution_count": 6
        }
      ]
    },
    {
      "cell_type": "code",
      "source": [
        "data.info()"
      ],
      "metadata": {
        "colab": {
          "base_uri": "https://localhost:8080/"
        },
        "id": "GZJLSZ6Vydkr",
        "outputId": "e861a2ee-e1d4-451f-9db5-cb8034a7be96"
      },
      "execution_count": 7,
      "outputs": [
        {
          "output_type": "stream",
          "name": "stdout",
          "text": [
            "<class 'pandas.core.frame.DataFrame'>\n",
            "RangeIndex: 62988 entries, 0 to 62987\n",
            "Data columns (total 23 columns):\n",
            " #   Column             Non-Null Count  Dtype  \n",
            "---  ------             --------------  -----  \n",
            " 0   MEMBER_NO          62988 non-null  int64  \n",
            " 1   FFP_DATE           62988 non-null  object \n",
            " 2   FIRST_FLIGHT_DATE  62988 non-null  object \n",
            " 3   GENDER             62985 non-null  object \n",
            " 4   FFP_TIER           62988 non-null  int64  \n",
            " 5   WORK_CITY          60719 non-null  object \n",
            " 6   WORK_PROVINCE      59740 non-null  object \n",
            " 7   WORK_COUNTRY       62962 non-null  object \n",
            " 8   AGE                62568 non-null  float64\n",
            " 9   LOAD_TIME          62988 non-null  object \n",
            " 10  FLIGHT_COUNT       62988 non-null  int64  \n",
            " 11  BP_SUM             62988 non-null  int64  \n",
            " 12  SUM_YR_1           62437 non-null  float64\n",
            " 13  SUM_YR_2           62850 non-null  float64\n",
            " 14  SEG_KM_SUM         62988 non-null  int64  \n",
            " 15  LAST_FLIGHT_DATE   62988 non-null  object \n",
            " 16  LAST_TO_END        62988 non-null  int64  \n",
            " 17  AVG_INTERVAL       62988 non-null  float64\n",
            " 18  MAX_INTERVAL       62988 non-null  int64  \n",
            " 19  EXCHANGE_COUNT     62988 non-null  int64  \n",
            " 20  avg_discount       62988 non-null  float64\n",
            " 21  Points_Sum         62988 non-null  int64  \n",
            " 22  Point_NotFlight    62988 non-null  int64  \n",
            "dtypes: float64(5), int64(10), object(8)\n",
            "memory usage: 11.1+ MB\n"
          ]
        }
      ]
    },
    {
      "cell_type": "markdown",
      "source": [
        "Finding null values and fill the null values"
      ],
      "metadata": {
        "id": "66xMhtu50GBc"
      }
    },
    {
      "cell_type": "code",
      "source": [
        "data.isnull().sum()"
      ],
      "metadata": {
        "colab": {
          "base_uri": "https://localhost:8080/"
        },
        "id": "Ol_0WMWdyu78",
        "outputId": "f4e2cdea-70f1-4178-f4fe-9f10f50f5b36"
      },
      "execution_count": 8,
      "outputs": [
        {
          "output_type": "execute_result",
          "data": {
            "text/plain": [
              "MEMBER_NO               0\n",
              "FFP_DATE                0\n",
              "FIRST_FLIGHT_DATE       0\n",
              "GENDER                  3\n",
              "FFP_TIER                0\n",
              "WORK_CITY            2269\n",
              "WORK_PROVINCE        3248\n",
              "WORK_COUNTRY           26\n",
              "AGE                   420\n",
              "LOAD_TIME               0\n",
              "FLIGHT_COUNT            0\n",
              "BP_SUM                  0\n",
              "SUM_YR_1              551\n",
              "SUM_YR_2              138\n",
              "SEG_KM_SUM              0\n",
              "LAST_FLIGHT_DATE        0\n",
              "LAST_TO_END             0\n",
              "AVG_INTERVAL            0\n",
              "MAX_INTERVAL            0\n",
              "EXCHANGE_COUNT          0\n",
              "avg_discount            0\n",
              "Points_Sum              0\n",
              "Point_NotFlight         0\n",
              "dtype: int64"
            ]
          },
          "metadata": {},
          "execution_count": 8
        }
      ]
    },
    {
      "cell_type": "code",
      "source": [
        "data['WORK_CITY'].notnull() & data['WORK_PROVINCE'].notnull()"
      ],
      "metadata": {
        "colab": {
          "base_uri": "https://localhost:8080/"
        },
        "id": "_gL4pj72yz34",
        "outputId": "286ea84e-17fd-49b5-fd83-cbe75554736b"
      },
      "execution_count": 10,
      "outputs": [
        {
          "output_type": "execute_result",
          "data": {
            "text/plain": [
              "0         True\n",
              "1        False\n",
              "2         True\n",
              "3         True\n",
              "4         True\n",
              "         ...  \n",
              "62983     True\n",
              "62984     True\n",
              "62985     True\n",
              "62986     True\n",
              "62987     True\n",
              "Length: 62988, dtype: bool"
            ]
          },
          "metadata": {},
          "execution_count": 10
        }
      ]
    },
    {
      "cell_type": "code",
      "source": [
        "data = data[data['WORK_CITY'].notnull() & data['WORK_PROVINCE'].notnull()]"
      ],
      "metadata": {
        "id": "Ww0ivRzTzkhG"
      },
      "execution_count": 13,
      "outputs": []
    },
    {
      "cell_type": "code",
      "source": [
        "data.shape"
      ],
      "metadata": {
        "colab": {
          "base_uri": "https://localhost:8080/"
        },
        "id": "_TTN1HbFz3Uj",
        "outputId": "5bac468a-8e99-42eb-ce55-a6d89f3dee22"
      },
      "execution_count": 14,
      "outputs": [
        {
          "output_type": "execute_result",
          "data": {
            "text/plain": [
              "(59240, 23)"
            ]
          },
          "metadata": {},
          "execution_count": 14
        }
      ]
    },
    {
      "cell_type": "code",
      "source": [
        "#null values are removed"
      ],
      "metadata": {
        "id": "j4oLRmMaz72L"
      },
      "execution_count": null,
      "outputs": []
    },
    {
      "cell_type": "code",
      "source": [
        "data.isnull().sum()"
      ],
      "metadata": {
        "colab": {
          "base_uri": "https://localhost:8080/"
        },
        "id": "ea1b-5x40UHo",
        "outputId": "469e80ff-da4e-41f2-f3fe-337c6d86be77"
      },
      "execution_count": 15,
      "outputs": [
        {
          "output_type": "execute_result",
          "data": {
            "text/plain": [
              "MEMBER_NO              0\n",
              "FFP_DATE               0\n",
              "FIRST_FLIGHT_DATE      0\n",
              "GENDER                 3\n",
              "FFP_TIER               0\n",
              "WORK_CITY              0\n",
              "WORK_PROVINCE          0\n",
              "WORK_COUNTRY           1\n",
              "AGE                  323\n",
              "LOAD_TIME              0\n",
              "FLIGHT_COUNT           0\n",
              "BP_SUM                 0\n",
              "SUM_YR_1             528\n",
              "SUM_YR_2             134\n",
              "SEG_KM_SUM             0\n",
              "LAST_FLIGHT_DATE       0\n",
              "LAST_TO_END            0\n",
              "AVG_INTERVAL           0\n",
              "MAX_INTERVAL           0\n",
              "EXCHANGE_COUNT         0\n",
              "avg_discount           0\n",
              "Points_Sum             0\n",
              "Point_NotFlight        0\n",
              "dtype: int64"
            ]
          },
          "metadata": {},
          "execution_count": 15
        }
      ]
    },
    {
      "cell_type": "code",
      "source": [
        "data['AGE'].unique()"
      ],
      "metadata": {
        "colab": {
          "base_uri": "https://localhost:8080/"
        },
        "id": "HItno39l0a9c",
        "outputId": "ef5f7085-408c-4e1b-bd25-e18118c7653b"
      },
      "execution_count": 16,
      "outputs": [
        {
          "output_type": "execute_result",
          "data": {
            "text/plain": [
              "array([ 31.,  40.,  64.,  48.,  46.,  50.,  43.,  34.,  47.,  58.,  45.,\n",
              "        63.,  54.,  41.,  49.,  nan,  69.,  39.,  62.,  55.,  53.,  37.,\n",
              "        51.,  59.,  76.,  38.,  42.,  60.,  52.,  44.,  30.,  33.,  28.,\n",
              "        67.,  57.,  35.,  70.,  66.,  56.,  61.,  36.,  78.,  32.,  74.,\n",
              "        68.,  65.,  27.,  72.,  71.,  79.,  25.,  29.,  21.,  26.,  18.,\n",
              "        19.,  73.,  77.,  15.,  16.,  75.,  24.,  12.,  23.,  14.,  20.,\n",
              "        22.,  89.,  80.,  81.,  83.,  82.,  84.,  13.,  17.,  86., 110.,\n",
              "         7.,  85.,   6.,  92.,  88.,   9.,  91.])"
            ]
          },
          "metadata": {},
          "execution_count": 16
        }
      ]
    },
    {
      "cell_type": "code",
      "source": [
        "data['AGE'] = data['AGE'].fillna(data['AGE'].median())"
      ],
      "metadata": {
        "id": "W3CHFY0c0fr1"
      },
      "execution_count": 17,
      "outputs": []
    },
    {
      "cell_type": "code",
      "source": [
        "data['AGE'].unique()"
      ],
      "metadata": {
        "colab": {
          "base_uri": "https://localhost:8080/"
        },
        "id": "QBvIj1WJ0m0P",
        "outputId": "53f53a0a-6d15-42f1-aa50-a747df39d55b"
      },
      "execution_count": 18,
      "outputs": [
        {
          "output_type": "execute_result",
          "data": {
            "text/plain": [
              "array([ 31.,  40.,  64.,  48.,  46.,  50.,  43.,  34.,  47.,  58.,  45.,\n",
              "        63.,  54.,  41.,  49.,  69.,  39.,  62.,  55.,  53.,  37.,  51.,\n",
              "        59.,  76.,  38.,  42.,  60.,  52.,  44.,  30.,  33.,  28.,  67.,\n",
              "        57.,  35.,  70.,  66.,  56.,  61.,  36.,  78.,  32.,  74.,  68.,\n",
              "        65.,  27.,  72.,  71.,  79.,  25.,  29.,  21.,  26.,  18.,  19.,\n",
              "        73.,  77.,  15.,  16.,  75.,  24.,  12.,  23.,  14.,  20.,  22.,\n",
              "        89.,  80.,  81.,  83.,  82.,  84.,  13.,  17.,  86., 110.,   7.,\n",
              "        85.,   6.,  92.,  88.,   9.,  91.])"
            ]
          },
          "metadata": {},
          "execution_count": 18
        }
      ]
    },
    {
      "cell_type": "code",
      "source": [
        "data.isnull().sum()"
      ],
      "metadata": {
        "colab": {
          "base_uri": "https://localhost:8080/"
        },
        "id": "kMyX4gQ40sKW",
        "outputId": "66b76b3c-4981-49b1-add6-a49d5ac0db44"
      },
      "execution_count": 19,
      "outputs": [
        {
          "output_type": "execute_result",
          "data": {
            "text/plain": [
              "MEMBER_NO              0\n",
              "FFP_DATE               0\n",
              "FIRST_FLIGHT_DATE      0\n",
              "GENDER                 3\n",
              "FFP_TIER               0\n",
              "WORK_CITY              0\n",
              "WORK_PROVINCE          0\n",
              "WORK_COUNTRY           1\n",
              "AGE                    0\n",
              "LOAD_TIME              0\n",
              "FLIGHT_COUNT           0\n",
              "BP_SUM                 0\n",
              "SUM_YR_1             528\n",
              "SUM_YR_2             134\n",
              "SEG_KM_SUM             0\n",
              "LAST_FLIGHT_DATE       0\n",
              "LAST_TO_END            0\n",
              "AVG_INTERVAL           0\n",
              "MAX_INTERVAL           0\n",
              "EXCHANGE_COUNT         0\n",
              "avg_discount           0\n",
              "Points_Sum             0\n",
              "Point_NotFlight        0\n",
              "dtype: int64"
            ]
          },
          "metadata": {},
          "execution_count": 19
        }
      ]
    },
    {
      "cell_type": "code",
      "source": [
        "data['SUM_YR_1'].interpolate(method = 'linear',inplace = True)"
      ],
      "metadata": {
        "id": "Z3Xp_Yk00yB-"
      },
      "execution_count": 20,
      "outputs": []
    },
    {
      "cell_type": "code",
      "source": [
        "data.isnull().sum()"
      ],
      "metadata": {
        "colab": {
          "base_uri": "https://localhost:8080/"
        },
        "id": "h35c0RDX1IMV",
        "outputId": "4bb3f347-a1a1-4ec8-a145-3c1c97173d9e"
      },
      "execution_count": 22,
      "outputs": [
        {
          "output_type": "execute_result",
          "data": {
            "text/plain": [
              "MEMBER_NO              0\n",
              "FFP_DATE               0\n",
              "FIRST_FLIGHT_DATE      0\n",
              "GENDER                 3\n",
              "FFP_TIER               0\n",
              "WORK_CITY              0\n",
              "WORK_PROVINCE          0\n",
              "WORK_COUNTRY           1\n",
              "AGE                    0\n",
              "LOAD_TIME              0\n",
              "FLIGHT_COUNT           0\n",
              "BP_SUM                 0\n",
              "SUM_YR_1               0\n",
              "SUM_YR_2             134\n",
              "SEG_KM_SUM             0\n",
              "LAST_FLIGHT_DATE       0\n",
              "LAST_TO_END            0\n",
              "AVG_INTERVAL           0\n",
              "MAX_INTERVAL           0\n",
              "EXCHANGE_COUNT         0\n",
              "avg_discount           0\n",
              "Points_Sum             0\n",
              "Point_NotFlight        0\n",
              "dtype: int64"
            ]
          },
          "metadata": {},
          "execution_count": 22
        }
      ]
    },
    {
      "cell_type": "code",
      "source": [
        "data['SUM_YR_2'].interpolate(method = 'linear',inplace = True)\n",
        "#Interpolate is used to fill null values"
      ],
      "metadata": {
        "id": "wbSMCODF1KGT"
      },
      "execution_count": 23,
      "outputs": []
    },
    {
      "cell_type": "code",
      "source": [
        "data.isnull().sum()"
      ],
      "metadata": {
        "colab": {
          "base_uri": "https://localhost:8080/"
        },
        "id": "XOopjeFS1L6c",
        "outputId": "b24b0af2-03c7-4bcf-e791-376bb50e0bd8"
      },
      "execution_count": 24,
      "outputs": [
        {
          "output_type": "execute_result",
          "data": {
            "text/plain": [
              "MEMBER_NO            0\n",
              "FFP_DATE             0\n",
              "FIRST_FLIGHT_DATE    0\n",
              "GENDER               3\n",
              "FFP_TIER             0\n",
              "WORK_CITY            0\n",
              "WORK_PROVINCE        0\n",
              "WORK_COUNTRY         1\n",
              "AGE                  0\n",
              "LOAD_TIME            0\n",
              "FLIGHT_COUNT         0\n",
              "BP_SUM               0\n",
              "SUM_YR_1             0\n",
              "SUM_YR_2             0\n",
              "SEG_KM_SUM           0\n",
              "LAST_FLIGHT_DATE     0\n",
              "LAST_TO_END          0\n",
              "AVG_INTERVAL         0\n",
              "MAX_INTERVAL         0\n",
              "EXCHANGE_COUNT       0\n",
              "avg_discount         0\n",
              "Points_Sum           0\n",
              "Point_NotFlight      0\n",
              "dtype: int64"
            ]
          },
          "metadata": {},
          "execution_count": 24
        }
      ]
    },
    {
      "cell_type": "code",
      "source": [
        "data.nunique().sort_values()"
      ],
      "metadata": {
        "colab": {
          "base_uri": "https://localhost:8080/"
        },
        "id": "qmd1Xzfg1YUn",
        "outputId": "fb5c4e0d-12ca-43d1-ee5f-940f6e3191a6"
      },
      "execution_count": 25,
      "outputs": [
        {
          "output_type": "execute_result",
          "data": {
            "text/plain": [
              "LOAD_TIME                1\n",
              "GENDER                   2\n",
              "FFP_TIER                 3\n",
              "EXCHANGE_COUNT          27\n",
              "AGE                     83\n",
              "Point_NotFlight         99\n",
              "WORK_COUNTRY           106\n",
              "FLIGHT_COUNT           151\n",
              "MAX_INTERVAL           706\n",
              "LAST_TO_END            731\n",
              "LAST_FLIGHT_DATE       731\n",
              "WORK_PROVINCE         1139\n",
              "WORK_CITY             2976\n",
              "FFP_DATE              3063\n",
              "FIRST_FLIGHT_DATE     3400\n",
              "AVG_INTERVAL         10552\n",
              "SUM_YR_1             15624\n",
              "SUM_YR_2             16461\n",
              "BP_SUM               22793\n",
              "Points_Sum           24382\n",
              "SEG_KM_SUM           28215\n",
              "avg_discount         51115\n",
              "MEMBER_NO            59240\n",
              "dtype: int64"
            ]
          },
          "metadata": {},
          "execution_count": 25
        }
      ]
    },
    {
      "cell_type": "code",
      "source": [
        "data['GENDER'].value_counts()"
      ],
      "metadata": {
        "colab": {
          "base_uri": "https://localhost:8080/"
        },
        "id": "hGxjoKHw1w_g",
        "outputId": "8a1024d0-2bbc-4789-a652-b271e700b72e"
      },
      "execution_count": 26,
      "outputs": [
        {
          "output_type": "execute_result",
          "data": {
            "text/plain": [
              "Male      45144\n",
              "Female    14093\n",
              "Name: GENDER, dtype: int64"
            ]
          },
          "metadata": {},
          "execution_count": 26
        }
      ]
    },
    {
      "cell_type": "code",
      "source": [
        "data['WORK_COUNTRY'].unique()"
      ],
      "metadata": {
        "colab": {
          "base_uri": "https://localhost:8080/"
        },
        "id": "sjeQg8v0114K",
        "outputId": "4a9f6287-3cb4-4f44-df2d-d333e9232191"
      },
      "execution_count": 27,
      "outputs": [
        {
          "output_type": "execute_result",
          "data": {
            "text/plain": [
              "array(['CN', 'US', 'FR', 'AN', 'JP', 'HK', 'MY', 'NL', 'AU', 'CA', 'KR',\n",
              "       'PK', 'SG', 'BR', 'PE', 'HN', 'PH', 'GN', 'FL', 'MO', 'TW', 'VN',\n",
              "       'DE', 'IL', 'CH', 'ID', 'KH', 'VT', 'TH', 'EC', 'NG', 'BI', 'BE',\n",
              "       'GL', 'NZ', 'MX', 'FA', 'NI', 'KO', 'CC', 'UV', 'MN', 'UK', 'AS',\n",
              "       'IT', 'AE', 'IN', 'NO', 'MS', 'UZ', 'NE', 'AT', 'HU', 'EG', '中',\n",
              "       'AA', 'ES', 'MZ', 'SW', 'PS', 'KE', 'KZ', 'SE', 'SN', 'BB', 'UA',\n",
              "       'MA', 'YE', 'GE', 'SI', 'CY', 'KA', 'RO', 'DK', 'AB', 'CD', 'UY',\n",
              "       'CM', 'TK', 'IR', 'AR', 'BN', 'MV', 'PN', '北', 'SU', 'RU', '沈',\n",
              "       'GU', 'GB', 'PP', nan, '芬', 'FO', 'IE', 'PR', 'AZ', 'GH', 'ZA',\n",
              "       'IA', 'cn', 'TR', 'LA', 'BG', 'CL', 'CR', 'SA'], dtype=object)"
            ]
          },
          "metadata": {},
          "execution_count": 27
        }
      ]
    },
    {
      "cell_type": "code",
      "source": [
        "data['WORK_COUNTRY'].value_counts()"
      ],
      "metadata": {
        "colab": {
          "base_uri": "https://localhost:8080/"
        },
        "id": "Vt28S9kc19Wk",
        "outputId": "1ccc44d2-4705-4a41-99f6-4754a1426498"
      },
      "execution_count": 28,
      "outputs": [
        {
          "output_type": "execute_result",
          "data": {
            "text/plain": [
              "CN    55895\n",
              "JP      720\n",
              "KR      720\n",
              "US      489\n",
              "HK      373\n",
              "      ...  \n",
              "BI        1\n",
              "AB        1\n",
              "CD        1\n",
              "EC        1\n",
              "EG        1\n",
              "Name: WORK_COUNTRY, Length: 106, dtype: int64"
            ]
          },
          "metadata": {},
          "execution_count": 28
        }
      ]
    },
    {
      "cell_type": "code",
      "source": [
        "list1 = ['CN','KR','US','HK','JP']"
      ],
      "metadata": {
        "id": "DXX4GTei2BmM"
      },
      "execution_count": 29,
      "outputs": []
    },
    {
      "cell_type": "code",
      "source": [
        "data = data.loc[data.WORK_COUNTRY.isin(list1)]"
      ],
      "metadata": {
        "id": "kRqTHZm22KT0"
      },
      "execution_count": 30,
      "outputs": []
    },
    {
      "cell_type": "code",
      "source": [
        "data['WORK_COUNTRY'].value_counts()"
      ],
      "metadata": {
        "colab": {
          "base_uri": "https://localhost:8080/"
        },
        "id": "BcTtt9Fc2SSZ",
        "outputId": "c486fbf5-1d82-462b-f796-3f6e0d513d60"
      },
      "execution_count": 31,
      "outputs": [
        {
          "output_type": "execute_result",
          "data": {
            "text/plain": [
              "CN    55895\n",
              "JP      720\n",
              "KR      720\n",
              "US      489\n",
              "HK      373\n",
              "Name: WORK_COUNTRY, dtype: int64"
            ]
          },
          "metadata": {},
          "execution_count": 31
        }
      ]
    },
    {
      "cell_type": "code",
      "source": [
        "data.head()"
      ],
      "metadata": {
        "colab": {
          "base_uri": "https://localhost:8080/",
          "height": 317
        },
        "id": "VnnDDjNa2n31",
        "outputId": "cf67f069-9510-4cc2-e7be-9a4d24aab9fd"
      },
      "execution_count": 32,
      "outputs": [
        {
          "output_type": "execute_result",
          "data": {
            "text/plain": [
              "   MEMBER_NO   FFP_DATE FIRST_FLIGHT_DATE GENDER  FFP_TIER    WORK_CITY  \\\n",
              "0      54993  11/2/2006        12/24/2008   Male         6            .   \n",
              "2      55106   2/1/2007         8/30/2007   Male         6            .   \n",
              "3      21189  8/22/2008         8/23/2008   Male         5  Los Angeles   \n",
              "4      39546  4/10/2009         4/15/2009   Male         6      guiyang   \n",
              "5      56972  2/10/2008         9/29/2009   Male         6    guangzhou   \n",
              "\n",
              "  WORK_PROVINCE WORK_COUNTRY   AGE  LOAD_TIME  ...  SUM_YR_2  SEG_KM_SUM  \\\n",
              "0       beijing           CN  31.0  3/31/2014  ...  234188.0      580717   \n",
              "2       beijing           CN  40.0  3/31/2014  ...  164982.0      283712   \n",
              "3            CA           US  64.0  3/31/2014  ...  125500.0      281336   \n",
              "4       guizhou           CN  48.0  3/31/2014  ...  130702.0      309928   \n",
              "5     guangdong           CN  64.0  3/31/2014  ...   76946.0      294585   \n",
              "\n",
              "   LAST_FLIGHT_DATE  LAST_TO_END  AVG_INTERVAL MAX_INTERVAL  EXCHANGE_COUNT  \\\n",
              "0         3/31/2014            1      3.483254           18              34   \n",
              "2         3/21/2014           11      5.298507           18              20   \n",
              "3        12/26/2013           97     27.863636           73              11   \n",
              "4         3/27/2014            5      4.788079           47              27   \n",
              "5         1/13/2014           79      7.043956           52              10   \n",
              "\n",
              "   avg_discount  Points_Sum  Point_NotFlight  \n",
              "0      0.961639      619760               50  \n",
              "2      1.254676      406361               26  \n",
              "3      1.090870      372204               12  \n",
              "4      0.970658      338813               39  \n",
              "5      0.967692      343121               15  \n",
              "\n",
              "[5 rows x 23 columns]"
            ],
            "text/html": [
              "\n",
              "\n",
              "  <div id=\"df-08ed7134-53b2-4db0-b95d-1f8bec462be4\">\n",
              "    <div class=\"colab-df-container\">\n",
              "      <div>\n",
              "<style scoped>\n",
              "    .dataframe tbody tr th:only-of-type {\n",
              "        vertical-align: middle;\n",
              "    }\n",
              "\n",
              "    .dataframe tbody tr th {\n",
              "        vertical-align: top;\n",
              "    }\n",
              "\n",
              "    .dataframe thead th {\n",
              "        text-align: right;\n",
              "    }\n",
              "</style>\n",
              "<table border=\"1\" class=\"dataframe\">\n",
              "  <thead>\n",
              "    <tr style=\"text-align: right;\">\n",
              "      <th></th>\n",
              "      <th>MEMBER_NO</th>\n",
              "      <th>FFP_DATE</th>\n",
              "      <th>FIRST_FLIGHT_DATE</th>\n",
              "      <th>GENDER</th>\n",
              "      <th>FFP_TIER</th>\n",
              "      <th>WORK_CITY</th>\n",
              "      <th>WORK_PROVINCE</th>\n",
              "      <th>WORK_COUNTRY</th>\n",
              "      <th>AGE</th>\n",
              "      <th>LOAD_TIME</th>\n",
              "      <th>...</th>\n",
              "      <th>SUM_YR_2</th>\n",
              "      <th>SEG_KM_SUM</th>\n",
              "      <th>LAST_FLIGHT_DATE</th>\n",
              "      <th>LAST_TO_END</th>\n",
              "      <th>AVG_INTERVAL</th>\n",
              "      <th>MAX_INTERVAL</th>\n",
              "      <th>EXCHANGE_COUNT</th>\n",
              "      <th>avg_discount</th>\n",
              "      <th>Points_Sum</th>\n",
              "      <th>Point_NotFlight</th>\n",
              "    </tr>\n",
              "  </thead>\n",
              "  <tbody>\n",
              "    <tr>\n",
              "      <th>0</th>\n",
              "      <td>54993</td>\n",
              "      <td>11/2/2006</td>\n",
              "      <td>12/24/2008</td>\n",
              "      <td>Male</td>\n",
              "      <td>6</td>\n",
              "      <td>.</td>\n",
              "      <td>beijing</td>\n",
              "      <td>CN</td>\n",
              "      <td>31.0</td>\n",
              "      <td>3/31/2014</td>\n",
              "      <td>...</td>\n",
              "      <td>234188.0</td>\n",
              "      <td>580717</td>\n",
              "      <td>3/31/2014</td>\n",
              "      <td>1</td>\n",
              "      <td>3.483254</td>\n",
              "      <td>18</td>\n",
              "      <td>34</td>\n",
              "      <td>0.961639</td>\n",
              "      <td>619760</td>\n",
              "      <td>50</td>\n",
              "    </tr>\n",
              "    <tr>\n",
              "      <th>2</th>\n",
              "      <td>55106</td>\n",
              "      <td>2/1/2007</td>\n",
              "      <td>8/30/2007</td>\n",
              "      <td>Male</td>\n",
              "      <td>6</td>\n",
              "      <td>.</td>\n",
              "      <td>beijing</td>\n",
              "      <td>CN</td>\n",
              "      <td>40.0</td>\n",
              "      <td>3/31/2014</td>\n",
              "      <td>...</td>\n",
              "      <td>164982.0</td>\n",
              "      <td>283712</td>\n",
              "      <td>3/21/2014</td>\n",
              "      <td>11</td>\n",
              "      <td>5.298507</td>\n",
              "      <td>18</td>\n",
              "      <td>20</td>\n",
              "      <td>1.254676</td>\n",
              "      <td>406361</td>\n",
              "      <td>26</td>\n",
              "    </tr>\n",
              "    <tr>\n",
              "      <th>3</th>\n",
              "      <td>21189</td>\n",
              "      <td>8/22/2008</td>\n",
              "      <td>8/23/2008</td>\n",
              "      <td>Male</td>\n",
              "      <td>5</td>\n",
              "      <td>Los Angeles</td>\n",
              "      <td>CA</td>\n",
              "      <td>US</td>\n",
              "      <td>64.0</td>\n",
              "      <td>3/31/2014</td>\n",
              "      <td>...</td>\n",
              "      <td>125500.0</td>\n",
              "      <td>281336</td>\n",
              "      <td>12/26/2013</td>\n",
              "      <td>97</td>\n",
              "      <td>27.863636</td>\n",
              "      <td>73</td>\n",
              "      <td>11</td>\n",
              "      <td>1.090870</td>\n",
              "      <td>372204</td>\n",
              "      <td>12</td>\n",
              "    </tr>\n",
              "    <tr>\n",
              "      <th>4</th>\n",
              "      <td>39546</td>\n",
              "      <td>4/10/2009</td>\n",
              "      <td>4/15/2009</td>\n",
              "      <td>Male</td>\n",
              "      <td>6</td>\n",
              "      <td>guiyang</td>\n",
              "      <td>guizhou</td>\n",
              "      <td>CN</td>\n",
              "      <td>48.0</td>\n",
              "      <td>3/31/2014</td>\n",
              "      <td>...</td>\n",
              "      <td>130702.0</td>\n",
              "      <td>309928</td>\n",
              "      <td>3/27/2014</td>\n",
              "      <td>5</td>\n",
              "      <td>4.788079</td>\n",
              "      <td>47</td>\n",
              "      <td>27</td>\n",
              "      <td>0.970658</td>\n",
              "      <td>338813</td>\n",
              "      <td>39</td>\n",
              "    </tr>\n",
              "    <tr>\n",
              "      <th>5</th>\n",
              "      <td>56972</td>\n",
              "      <td>2/10/2008</td>\n",
              "      <td>9/29/2009</td>\n",
              "      <td>Male</td>\n",
              "      <td>6</td>\n",
              "      <td>guangzhou</td>\n",
              "      <td>guangdong</td>\n",
              "      <td>CN</td>\n",
              "      <td>64.0</td>\n",
              "      <td>3/31/2014</td>\n",
              "      <td>...</td>\n",
              "      <td>76946.0</td>\n",
              "      <td>294585</td>\n",
              "      <td>1/13/2014</td>\n",
              "      <td>79</td>\n",
              "      <td>7.043956</td>\n",
              "      <td>52</td>\n",
              "      <td>10</td>\n",
              "      <td>0.967692</td>\n",
              "      <td>343121</td>\n",
              "      <td>15</td>\n",
              "    </tr>\n",
              "  </tbody>\n",
              "</table>\n",
              "<p>5 rows × 23 columns</p>\n",
              "</div>\n",
              "      <button class=\"colab-df-convert\" onclick=\"convertToInteractive('df-08ed7134-53b2-4db0-b95d-1f8bec462be4')\"\n",
              "              title=\"Convert this dataframe to an interactive table.\"\n",
              "              style=\"display:none;\">\n",
              "\n",
              "  <svg xmlns=\"http://www.w3.org/2000/svg\" height=\"24px\"viewBox=\"0 0 24 24\"\n",
              "       width=\"24px\">\n",
              "    <path d=\"M0 0h24v24H0V0z\" fill=\"none\"/>\n",
              "    <path d=\"M18.56 5.44l.94 2.06.94-2.06 2.06-.94-2.06-.94-.94-2.06-.94 2.06-2.06.94zm-11 1L8.5 8.5l.94-2.06 2.06-.94-2.06-.94L8.5 2.5l-.94 2.06-2.06.94zm10 10l.94 2.06.94-2.06 2.06-.94-2.06-.94-.94-2.06-.94 2.06-2.06.94z\"/><path d=\"M17.41 7.96l-1.37-1.37c-.4-.4-.92-.59-1.43-.59-.52 0-1.04.2-1.43.59L10.3 9.45l-7.72 7.72c-.78.78-.78 2.05 0 2.83L4 21.41c.39.39.9.59 1.41.59.51 0 1.02-.2 1.41-.59l7.78-7.78 2.81-2.81c.8-.78.8-2.07 0-2.86zM5.41 20L4 18.59l7.72-7.72 1.47 1.35L5.41 20z\"/>\n",
              "  </svg>\n",
              "      </button>\n",
              "\n",
              "\n",
              "\n",
              "    <div id=\"df-9ef75e4f-6e20-459b-96bd-9704b4499d77\">\n",
              "      <button class=\"colab-df-quickchart\" onclick=\"quickchart('df-9ef75e4f-6e20-459b-96bd-9704b4499d77')\"\n",
              "              title=\"Suggest charts.\"\n",
              "              style=\"display:none;\">\n",
              "\n",
              "<svg xmlns=\"http://www.w3.org/2000/svg\" height=\"24px\"viewBox=\"0 0 24 24\"\n",
              "     width=\"24px\">\n",
              "    <g>\n",
              "        <path d=\"M19 3H5c-1.1 0-2 .9-2 2v14c0 1.1.9 2 2 2h14c1.1 0 2-.9 2-2V5c0-1.1-.9-2-2-2zM9 17H7v-7h2v7zm4 0h-2V7h2v10zm4 0h-2v-4h2v4z\"/>\n",
              "    </g>\n",
              "</svg>\n",
              "      </button>\n",
              "    </div>\n",
              "\n",
              "<style>\n",
              "  .colab-df-quickchart {\n",
              "    background-color: #E8F0FE;\n",
              "    border: none;\n",
              "    border-radius: 50%;\n",
              "    cursor: pointer;\n",
              "    display: none;\n",
              "    fill: #1967D2;\n",
              "    height: 32px;\n",
              "    padding: 0 0 0 0;\n",
              "    width: 32px;\n",
              "  }\n",
              "\n",
              "  .colab-df-quickchart:hover {\n",
              "    background-color: #E2EBFA;\n",
              "    box-shadow: 0px 1px 2px rgba(60, 64, 67, 0.3), 0px 1px 3px 1px rgba(60, 64, 67, 0.15);\n",
              "    fill: #174EA6;\n",
              "  }\n",
              "\n",
              "  [theme=dark] .colab-df-quickchart {\n",
              "    background-color: #3B4455;\n",
              "    fill: #D2E3FC;\n",
              "  }\n",
              "\n",
              "  [theme=dark] .colab-df-quickchart:hover {\n",
              "    background-color: #434B5C;\n",
              "    box-shadow: 0px 1px 3px 1px rgba(0, 0, 0, 0.15);\n",
              "    filter: drop-shadow(0px 1px 2px rgba(0, 0, 0, 0.3));\n",
              "    fill: #FFFFFF;\n",
              "  }\n",
              "</style>\n",
              "\n",
              "    <script>\n",
              "      async function quickchart(key) {\n",
              "        const containerElement = document.querySelector('#' + key);\n",
              "        const charts = await google.colab.kernel.invokeFunction(\n",
              "            'suggestCharts', [key], {});\n",
              "      }\n",
              "    </script>\n",
              "\n",
              "      <script>\n",
              "\n",
              "function displayQuickchartButton(domScope) {\n",
              "  let quickchartButtonEl =\n",
              "    domScope.querySelector('#df-9ef75e4f-6e20-459b-96bd-9704b4499d77 button.colab-df-quickchart');\n",
              "  quickchartButtonEl.style.display =\n",
              "    google.colab.kernel.accessAllowed ? 'block' : 'none';\n",
              "}\n",
              "\n",
              "        displayQuickchartButton(document);\n",
              "      </script>\n",
              "      <style>\n",
              "    .colab-df-container {\n",
              "      display:flex;\n",
              "      flex-wrap:wrap;\n",
              "      gap: 12px;\n",
              "    }\n",
              "\n",
              "    .colab-df-convert {\n",
              "      background-color: #E8F0FE;\n",
              "      border: none;\n",
              "      border-radius: 50%;\n",
              "      cursor: pointer;\n",
              "      display: none;\n",
              "      fill: #1967D2;\n",
              "      height: 32px;\n",
              "      padding: 0 0 0 0;\n",
              "      width: 32px;\n",
              "    }\n",
              "\n",
              "    .colab-df-convert:hover {\n",
              "      background-color: #E2EBFA;\n",
              "      box-shadow: 0px 1px 2px rgba(60, 64, 67, 0.3), 0px 1px 3px 1px rgba(60, 64, 67, 0.15);\n",
              "      fill: #174EA6;\n",
              "    }\n",
              "\n",
              "    [theme=dark] .colab-df-convert {\n",
              "      background-color: #3B4455;\n",
              "      fill: #D2E3FC;\n",
              "    }\n",
              "\n",
              "    [theme=dark] .colab-df-convert:hover {\n",
              "      background-color: #434B5C;\n",
              "      box-shadow: 0px 1px 3px 1px rgba(0, 0, 0, 0.15);\n",
              "      filter: drop-shadow(0px 1px 2px rgba(0, 0, 0, 0.3));\n",
              "      fill: #FFFFFF;\n",
              "    }\n",
              "  </style>\n",
              "\n",
              "      <script>\n",
              "        const buttonEl =\n",
              "          document.querySelector('#df-08ed7134-53b2-4db0-b95d-1f8bec462be4 button.colab-df-convert');\n",
              "        buttonEl.style.display =\n",
              "          google.colab.kernel.accessAllowed ? 'block' : 'none';\n",
              "\n",
              "        async function convertToInteractive(key) {\n",
              "          const element = document.querySelector('#df-08ed7134-53b2-4db0-b95d-1f8bec462be4');\n",
              "          const dataTable =\n",
              "            await google.colab.kernel.invokeFunction('convertToInteractive',\n",
              "                                                     [key], {});\n",
              "          if (!dataTable) return;\n",
              "\n",
              "          const docLinkHtml = 'Like what you see? Visit the ' +\n",
              "            '<a target=\"_blank\" href=https://colab.research.google.com/notebooks/data_table.ipynb>data table notebook</a>'\n",
              "            + ' to learn more about interactive tables.';\n",
              "          element.innerHTML = '';\n",
              "          dataTable['output_type'] = 'display_data';\n",
              "          await google.colab.output.renderOutput(dataTable, element);\n",
              "          const docLink = document.createElement('div');\n",
              "          docLink.innerHTML = docLinkHtml;\n",
              "          element.appendChild(docLink);\n",
              "        }\n",
              "      </script>\n",
              "    </div>\n",
              "  </div>\n"
            ]
          },
          "metadata": {},
          "execution_count": 32
        }
      ]
    },
    {
      "cell_type": "code",
      "source": [
        "data.drop(columns = ['MEMBER_NO','FFP_DATE','FIRST_FLIGHT_DATE','LAST_FLIGHT_DATE','WORK_CITY','LOAD_TIME'],inplace = True)\n",
        "#Dropped columns which are not required"
      ],
      "metadata": {
        "id": "p89a59lZ2XZ3"
      },
      "execution_count": 33,
      "outputs": []
    },
    {
      "cell_type": "code",
      "source": [
        "data.info()"
      ],
      "metadata": {
        "colab": {
          "base_uri": "https://localhost:8080/"
        },
        "id": "ZboI86Jj24lz",
        "outputId": "403e406f-554a-4322-c227-bf0a6b463076"
      },
      "execution_count": 34,
      "outputs": [
        {
          "output_type": "stream",
          "name": "stdout",
          "text": [
            "<class 'pandas.core.frame.DataFrame'>\n",
            "Int64Index: 58197 entries, 0 to 62987\n",
            "Data columns (total 17 columns):\n",
            " #   Column           Non-Null Count  Dtype  \n",
            "---  ------           --------------  -----  \n",
            " 0   GENDER           58195 non-null  object \n",
            " 1   FFP_TIER         58197 non-null  int64  \n",
            " 2   WORK_PROVINCE    58197 non-null  object \n",
            " 3   WORK_COUNTRY     58197 non-null  object \n",
            " 4   AGE              58197 non-null  float64\n",
            " 5   FLIGHT_COUNT     58197 non-null  int64  \n",
            " 6   BP_SUM           58197 non-null  int64  \n",
            " 7   SUM_YR_1         58197 non-null  float64\n",
            " 8   SUM_YR_2         58197 non-null  float64\n",
            " 9   SEG_KM_SUM       58197 non-null  int64  \n",
            " 10  LAST_TO_END      58197 non-null  int64  \n",
            " 11  AVG_INTERVAL     58197 non-null  float64\n",
            " 12  MAX_INTERVAL     58197 non-null  int64  \n",
            " 13  EXCHANGE_COUNT   58197 non-null  int64  \n",
            " 14  avg_discount     58197 non-null  float64\n",
            " 15  Points_Sum       58197 non-null  int64  \n",
            " 16  Point_NotFlight  58197 non-null  int64  \n",
            "dtypes: float64(5), int64(9), object(3)\n",
            "memory usage: 8.0+ MB\n"
          ]
        }
      ]
    },
    {
      "cell_type": "code",
      "source": [
        "data = data.reset_index(drop = True)"
      ],
      "metadata": {
        "id": "tdcRECfb3DL3"
      },
      "execution_count": 35,
      "outputs": []
    },
    {
      "cell_type": "code",
      "source": [
        "data.isnull().sum()"
      ],
      "metadata": {
        "colab": {
          "base_uri": "https://localhost:8080/"
        },
        "id": "bfZaLe6i3IYx",
        "outputId": "a52e79e7-1889-4d92-f62d-a9ebcea240a8"
      },
      "execution_count": 38,
      "outputs": [
        {
          "output_type": "execute_result",
          "data": {
            "text/plain": [
              "GENDER             2\n",
              "FFP_TIER           0\n",
              "WORK_PROVINCE      0\n",
              "WORK_COUNTRY       0\n",
              "AGE                0\n",
              "FLIGHT_COUNT       0\n",
              "BP_SUM             0\n",
              "SUM_YR_1           0\n",
              "SUM_YR_2           0\n",
              "SEG_KM_SUM         0\n",
              "LAST_TO_END        0\n",
              "AVG_INTERVAL       0\n",
              "MAX_INTERVAL       0\n",
              "EXCHANGE_COUNT     0\n",
              "avg_discount       0\n",
              "Points_Sum         0\n",
              "Point_NotFlight    0\n",
              "dtype: int64"
            ]
          },
          "metadata": {},
          "execution_count": 38
        }
      ]
    },
    {
      "cell_type": "code",
      "source": [
        "data['WORK_COUNTRY'].nunique()"
      ],
      "metadata": {
        "colab": {
          "base_uri": "https://localhost:8080/"
        },
        "id": "wyNBI8i43VTv",
        "outputId": "16873050-0cff-4c1b-c84e-384bd83d821d"
      },
      "execution_count": 39,
      "outputs": [
        {
          "output_type": "execute_result",
          "data": {
            "text/plain": [
              "5"
            ]
          },
          "metadata": {},
          "execution_count": 39
        }
      ]
    },
    {
      "cell_type": "code",
      "source": [
        "data = pd.get_dummies(data, columns = ['WORK_COUNTRY'])\n",
        "# Dummies convert categorical variables into dummy or indicator variables"
      ],
      "metadata": {
        "id": "jq2C4euZ3bzb"
      },
      "execution_count": 42,
      "outputs": []
    },
    {
      "cell_type": "code",
      "source": [
        "data.info()"
      ],
      "metadata": {
        "colab": {
          "base_uri": "https://localhost:8080/"
        },
        "id": "sKfQgVzI3j8X",
        "outputId": "ff1940cc-3b91-4c6c-b909-6c6beac974d5"
      },
      "execution_count": 44,
      "outputs": [
        {
          "output_type": "stream",
          "name": "stdout",
          "text": [
            "<class 'pandas.core.frame.DataFrame'>\n",
            "RangeIndex: 58197 entries, 0 to 58196\n",
            "Data columns (total 21 columns):\n",
            " #   Column           Non-Null Count  Dtype  \n",
            "---  ------           --------------  -----  \n",
            " 0   GENDER           58195 non-null  object \n",
            " 1   FFP_TIER         58197 non-null  int64  \n",
            " 2   WORK_PROVINCE    58197 non-null  object \n",
            " 3   AGE              58197 non-null  float64\n",
            " 4   FLIGHT_COUNT     58197 non-null  int64  \n",
            " 5   BP_SUM           58197 non-null  int64  \n",
            " 6   SUM_YR_1         58197 non-null  float64\n",
            " 7   SUM_YR_2         58197 non-null  float64\n",
            " 8   SEG_KM_SUM       58197 non-null  int64  \n",
            " 9   LAST_TO_END      58197 non-null  int64  \n",
            " 10  AVG_INTERVAL     58197 non-null  float64\n",
            " 11  MAX_INTERVAL     58197 non-null  int64  \n",
            " 12  EXCHANGE_COUNT   58197 non-null  int64  \n",
            " 13  avg_discount     58197 non-null  float64\n",
            " 14  Points_Sum       58197 non-null  int64  \n",
            " 15  Point_NotFlight  58197 non-null  int64  \n",
            " 16  WORK_COUNTRY_CN  58197 non-null  uint8  \n",
            " 17  WORK_COUNTRY_HK  58197 non-null  uint8  \n",
            " 18  WORK_COUNTRY_JP  58197 non-null  uint8  \n",
            " 19  WORK_COUNTRY_KR  58197 non-null  uint8  \n",
            " 20  WORK_COUNTRY_US  58197 non-null  uint8  \n",
            "dtypes: float64(5), int64(9), object(2), uint8(5)\n",
            "memory usage: 7.4+ MB\n"
          ]
        }
      ]
    },
    {
      "cell_type": "code",
      "source": [
        "data['WORK_PROVINCE'].nunique()"
      ],
      "metadata": {
        "colab": {
          "base_uri": "https://localhost:8080/"
        },
        "id": "xrFOoFdY32Oz",
        "outputId": "e4bcb771-4f6e-4cfe-a29f-a20a7a7f190a"
      },
      "execution_count": 45,
      "outputs": [
        {
          "output_type": "execute_result",
          "data": {
            "text/plain": [
              "744"
            ]
          },
          "metadata": {},
          "execution_count": 45
        }
      ]
    },
    {
      "cell_type": "code",
      "source": [
        "data = pd.get_dummies(data, columns = ['WORK_PROVINCE'])"
      ],
      "metadata": {
        "id": "gY4W4uXV38Yn"
      },
      "execution_count": 46,
      "outputs": []
    },
    {
      "cell_type": "code",
      "source": [
        "data.shape"
      ],
      "metadata": {
        "colab": {
          "base_uri": "https://localhost:8080/"
        },
        "id": "EdXhuAj44EIi",
        "outputId": "e25cc12e-7bd7-428b-8cad-2408663dce40"
      },
      "execution_count": 47,
      "outputs": [
        {
          "output_type": "execute_result",
          "data": {
            "text/plain": [
              "(58197, 764)"
            ]
          },
          "metadata": {},
          "execution_count": 47
        }
      ]
    },
    {
      "cell_type": "code",
      "source": [
        "data.head()"
      ],
      "metadata": {
        "colab": {
          "base_uri": "https://localhost:8080/",
          "height": 317
        },
        "id": "H6tflBLd4GxT",
        "outputId": "2cd81985-4eaf-41b7-be90-d5dbed801bbc"
      },
      "execution_count": 48,
      "outputs": [
        {
          "output_type": "execute_result",
          "data": {
            "text/plain": [
              "  GENDER  FFP_TIER   AGE  FLIGHT_COUNT  BP_SUM  SUM_YR_1  SUM_YR_2  \\\n",
              "0   Male         6  31.0           210  505308  239560.0  234188.0   \n",
              "1   Male         6  40.0           135  351159  163618.0  164982.0   \n",
              "2   Male         5  64.0            23  337314  116350.0  125500.0   \n",
              "3   Male         6  48.0           152  273844  124560.0  130702.0   \n",
              "4   Male         6  64.0            92  313338  112364.0   76946.0   \n",
              "\n",
              "   SEG_KM_SUM  LAST_TO_END  AVG_INTERVAL  ...  WORK_PROVINCE_zhongqing  \\\n",
              "0      580717            1      3.483254  ...                        0   \n",
              "1      283712           11      5.298507  ...                        0   \n",
              "2      281336           97     27.863636  ...                        0   \n",
              "3      309928            5      4.788079  ...                        0   \n",
              "4      294585           79      7.043956  ...                        0   \n",
              "\n",
              "   WORK_PROVINCE_zhongqingshi  WORK_PROVINCE_zhuhai  WORK_PROVINCE_——  \\\n",
              "0                           0                     0                 0   \n",
              "1                           0                     0                 0   \n",
              "2                           0                     0                 0   \n",
              "3                           0                     0                 0   \n",
              "4                           0                     0                 0   \n",
              "\n",
              "   WORK_PROVINCE_　  WORK_PROVINCE_　　  WORK_PROVINCE_。  \\\n",
              "0                0                 0                0   \n",
              "1                0                 0                0   \n",
              "2                0                 0                0   \n",
              "3                0                 0                0   \n",
              "4                0                 0                0   \n",
              "\n",
              "   WORK_PROVINCE_shanxian  WORK_PROVINCE_－  WORK_PROVINCE_．  \n",
              "0                        0                0                0  \n",
              "1                        0                0                0  \n",
              "2                        0                0                0  \n",
              "3                        0                0                0  \n",
              "4                        0                0                0  \n",
              "\n",
              "[5 rows x 764 columns]"
            ],
            "text/html": [
              "\n",
              "\n",
              "  <div id=\"df-3b524a17-22c3-4d4f-8c5e-1f77a29114b0\">\n",
              "    <div class=\"colab-df-container\">\n",
              "      <div>\n",
              "<style scoped>\n",
              "    .dataframe tbody tr th:only-of-type {\n",
              "        vertical-align: middle;\n",
              "    }\n",
              "\n",
              "    .dataframe tbody tr th {\n",
              "        vertical-align: top;\n",
              "    }\n",
              "\n",
              "    .dataframe thead th {\n",
              "        text-align: right;\n",
              "    }\n",
              "</style>\n",
              "<table border=\"1\" class=\"dataframe\">\n",
              "  <thead>\n",
              "    <tr style=\"text-align: right;\">\n",
              "      <th></th>\n",
              "      <th>GENDER</th>\n",
              "      <th>FFP_TIER</th>\n",
              "      <th>AGE</th>\n",
              "      <th>FLIGHT_COUNT</th>\n",
              "      <th>BP_SUM</th>\n",
              "      <th>SUM_YR_1</th>\n",
              "      <th>SUM_YR_2</th>\n",
              "      <th>SEG_KM_SUM</th>\n",
              "      <th>LAST_TO_END</th>\n",
              "      <th>AVG_INTERVAL</th>\n",
              "      <th>...</th>\n",
              "      <th>WORK_PROVINCE_zhongqing</th>\n",
              "      <th>WORK_PROVINCE_zhongqingshi</th>\n",
              "      <th>WORK_PROVINCE_zhuhai</th>\n",
              "      <th>WORK_PROVINCE_——</th>\n",
              "      <th>WORK_PROVINCE_</th>\n",
              "      <th>WORK_PROVINCE_</th>\n",
              "      <th>WORK_PROVINCE_。</th>\n",
              "      <th>WORK_PROVINCE_shanxian</th>\n",
              "      <th>WORK_PROVINCE_－</th>\n",
              "      <th>WORK_PROVINCE_．</th>\n",
              "    </tr>\n",
              "  </thead>\n",
              "  <tbody>\n",
              "    <tr>\n",
              "      <th>0</th>\n",
              "      <td>Male</td>\n",
              "      <td>6</td>\n",
              "      <td>31.0</td>\n",
              "      <td>210</td>\n",
              "      <td>505308</td>\n",
              "      <td>239560.0</td>\n",
              "      <td>234188.0</td>\n",
              "      <td>580717</td>\n",
              "      <td>1</td>\n",
              "      <td>3.483254</td>\n",
              "      <td>...</td>\n",
              "      <td>0</td>\n",
              "      <td>0</td>\n",
              "      <td>0</td>\n",
              "      <td>0</td>\n",
              "      <td>0</td>\n",
              "      <td>0</td>\n",
              "      <td>0</td>\n",
              "      <td>0</td>\n",
              "      <td>0</td>\n",
              "      <td>0</td>\n",
              "    </tr>\n",
              "    <tr>\n",
              "      <th>1</th>\n",
              "      <td>Male</td>\n",
              "      <td>6</td>\n",
              "      <td>40.0</td>\n",
              "      <td>135</td>\n",
              "      <td>351159</td>\n",
              "      <td>163618.0</td>\n",
              "      <td>164982.0</td>\n",
              "      <td>283712</td>\n",
              "      <td>11</td>\n",
              "      <td>5.298507</td>\n",
              "      <td>...</td>\n",
              "      <td>0</td>\n",
              "      <td>0</td>\n",
              "      <td>0</td>\n",
              "      <td>0</td>\n",
              "      <td>0</td>\n",
              "      <td>0</td>\n",
              "      <td>0</td>\n",
              "      <td>0</td>\n",
              "      <td>0</td>\n",
              "      <td>0</td>\n",
              "    </tr>\n",
              "    <tr>\n",
              "      <th>2</th>\n",
              "      <td>Male</td>\n",
              "      <td>5</td>\n",
              "      <td>64.0</td>\n",
              "      <td>23</td>\n",
              "      <td>337314</td>\n",
              "      <td>116350.0</td>\n",
              "      <td>125500.0</td>\n",
              "      <td>281336</td>\n",
              "      <td>97</td>\n",
              "      <td>27.863636</td>\n",
              "      <td>...</td>\n",
              "      <td>0</td>\n",
              "      <td>0</td>\n",
              "      <td>0</td>\n",
              "      <td>0</td>\n",
              "      <td>0</td>\n",
              "      <td>0</td>\n",
              "      <td>0</td>\n",
              "      <td>0</td>\n",
              "      <td>0</td>\n",
              "      <td>0</td>\n",
              "    </tr>\n",
              "    <tr>\n",
              "      <th>3</th>\n",
              "      <td>Male</td>\n",
              "      <td>6</td>\n",
              "      <td>48.0</td>\n",
              "      <td>152</td>\n",
              "      <td>273844</td>\n",
              "      <td>124560.0</td>\n",
              "      <td>130702.0</td>\n",
              "      <td>309928</td>\n",
              "      <td>5</td>\n",
              "      <td>4.788079</td>\n",
              "      <td>...</td>\n",
              "      <td>0</td>\n",
              "      <td>0</td>\n",
              "      <td>0</td>\n",
              "      <td>0</td>\n",
              "      <td>0</td>\n",
              "      <td>0</td>\n",
              "      <td>0</td>\n",
              "      <td>0</td>\n",
              "      <td>0</td>\n",
              "      <td>0</td>\n",
              "    </tr>\n",
              "    <tr>\n",
              "      <th>4</th>\n",
              "      <td>Male</td>\n",
              "      <td>6</td>\n",
              "      <td>64.0</td>\n",
              "      <td>92</td>\n",
              "      <td>313338</td>\n",
              "      <td>112364.0</td>\n",
              "      <td>76946.0</td>\n",
              "      <td>294585</td>\n",
              "      <td>79</td>\n",
              "      <td>7.043956</td>\n",
              "      <td>...</td>\n",
              "      <td>0</td>\n",
              "      <td>0</td>\n",
              "      <td>0</td>\n",
              "      <td>0</td>\n",
              "      <td>0</td>\n",
              "      <td>0</td>\n",
              "      <td>0</td>\n",
              "      <td>0</td>\n",
              "      <td>0</td>\n",
              "      <td>0</td>\n",
              "    </tr>\n",
              "  </tbody>\n",
              "</table>\n",
              "<p>5 rows × 764 columns</p>\n",
              "</div>\n",
              "      <button class=\"colab-df-convert\" onclick=\"convertToInteractive('df-3b524a17-22c3-4d4f-8c5e-1f77a29114b0')\"\n",
              "              title=\"Convert this dataframe to an interactive table.\"\n",
              "              style=\"display:none;\">\n",
              "\n",
              "  <svg xmlns=\"http://www.w3.org/2000/svg\" height=\"24px\"viewBox=\"0 0 24 24\"\n",
              "       width=\"24px\">\n",
              "    <path d=\"M0 0h24v24H0V0z\" fill=\"none\"/>\n",
              "    <path d=\"M18.56 5.44l.94 2.06.94-2.06 2.06-.94-2.06-.94-.94-2.06-.94 2.06-2.06.94zm-11 1L8.5 8.5l.94-2.06 2.06-.94-2.06-.94L8.5 2.5l-.94 2.06-2.06.94zm10 10l.94 2.06.94-2.06 2.06-.94-2.06-.94-.94-2.06-.94 2.06-2.06.94z\"/><path d=\"M17.41 7.96l-1.37-1.37c-.4-.4-.92-.59-1.43-.59-.52 0-1.04.2-1.43.59L10.3 9.45l-7.72 7.72c-.78.78-.78 2.05 0 2.83L4 21.41c.39.39.9.59 1.41.59.51 0 1.02-.2 1.41-.59l7.78-7.78 2.81-2.81c.8-.78.8-2.07 0-2.86zM5.41 20L4 18.59l7.72-7.72 1.47 1.35L5.41 20z\"/>\n",
              "  </svg>\n",
              "      </button>\n",
              "\n",
              "\n",
              "\n",
              "    <div id=\"df-269a3dee-98b1-4f1a-b00f-30a82ca7d730\">\n",
              "      <button class=\"colab-df-quickchart\" onclick=\"quickchart('df-269a3dee-98b1-4f1a-b00f-30a82ca7d730')\"\n",
              "              title=\"Suggest charts.\"\n",
              "              style=\"display:none;\">\n",
              "\n",
              "<svg xmlns=\"http://www.w3.org/2000/svg\" height=\"24px\"viewBox=\"0 0 24 24\"\n",
              "     width=\"24px\">\n",
              "    <g>\n",
              "        <path d=\"M19 3H5c-1.1 0-2 .9-2 2v14c0 1.1.9 2 2 2h14c1.1 0 2-.9 2-2V5c0-1.1-.9-2-2-2zM9 17H7v-7h2v7zm4 0h-2V7h2v10zm4 0h-2v-4h2v4z\"/>\n",
              "    </g>\n",
              "</svg>\n",
              "      </button>\n",
              "    </div>\n",
              "\n",
              "<style>\n",
              "  .colab-df-quickchart {\n",
              "    background-color: #E8F0FE;\n",
              "    border: none;\n",
              "    border-radius: 50%;\n",
              "    cursor: pointer;\n",
              "    display: none;\n",
              "    fill: #1967D2;\n",
              "    height: 32px;\n",
              "    padding: 0 0 0 0;\n",
              "    width: 32px;\n",
              "  }\n",
              "\n",
              "  .colab-df-quickchart:hover {\n",
              "    background-color: #E2EBFA;\n",
              "    box-shadow: 0px 1px 2px rgba(60, 64, 67, 0.3), 0px 1px 3px 1px rgba(60, 64, 67, 0.15);\n",
              "    fill: #174EA6;\n",
              "  }\n",
              "\n",
              "  [theme=dark] .colab-df-quickchart {\n",
              "    background-color: #3B4455;\n",
              "    fill: #D2E3FC;\n",
              "  }\n",
              "\n",
              "  [theme=dark] .colab-df-quickchart:hover {\n",
              "    background-color: #434B5C;\n",
              "    box-shadow: 0px 1px 3px 1px rgba(0, 0, 0, 0.15);\n",
              "    filter: drop-shadow(0px 1px 2px rgba(0, 0, 0, 0.3));\n",
              "    fill: #FFFFFF;\n",
              "  }\n",
              "</style>\n",
              "\n",
              "    <script>\n",
              "      async function quickchart(key) {\n",
              "        const containerElement = document.querySelector('#' + key);\n",
              "        const charts = await google.colab.kernel.invokeFunction(\n",
              "            'suggestCharts', [key], {});\n",
              "      }\n",
              "    </script>\n",
              "\n",
              "      <script>\n",
              "\n",
              "function displayQuickchartButton(domScope) {\n",
              "  let quickchartButtonEl =\n",
              "    domScope.querySelector('#df-269a3dee-98b1-4f1a-b00f-30a82ca7d730 button.colab-df-quickchart');\n",
              "  quickchartButtonEl.style.display =\n",
              "    google.colab.kernel.accessAllowed ? 'block' : 'none';\n",
              "}\n",
              "\n",
              "        displayQuickchartButton(document);\n",
              "      </script>\n",
              "      <style>\n",
              "    .colab-df-container {\n",
              "      display:flex;\n",
              "      flex-wrap:wrap;\n",
              "      gap: 12px;\n",
              "    }\n",
              "\n",
              "    .colab-df-convert {\n",
              "      background-color: #E8F0FE;\n",
              "      border: none;\n",
              "      border-radius: 50%;\n",
              "      cursor: pointer;\n",
              "      display: none;\n",
              "      fill: #1967D2;\n",
              "      height: 32px;\n",
              "      padding: 0 0 0 0;\n",
              "      width: 32px;\n",
              "    }\n",
              "\n",
              "    .colab-df-convert:hover {\n",
              "      background-color: #E2EBFA;\n",
              "      box-shadow: 0px 1px 2px rgba(60, 64, 67, 0.3), 0px 1px 3px 1px rgba(60, 64, 67, 0.15);\n",
              "      fill: #174EA6;\n",
              "    }\n",
              "\n",
              "    [theme=dark] .colab-df-convert {\n",
              "      background-color: #3B4455;\n",
              "      fill: #D2E3FC;\n",
              "    }\n",
              "\n",
              "    [theme=dark] .colab-df-convert:hover {\n",
              "      background-color: #434B5C;\n",
              "      box-shadow: 0px 1px 3px 1px rgba(0, 0, 0, 0.15);\n",
              "      filter: drop-shadow(0px 1px 2px rgba(0, 0, 0, 0.3));\n",
              "      fill: #FFFFFF;\n",
              "    }\n",
              "  </style>\n",
              "\n",
              "      <script>\n",
              "        const buttonEl =\n",
              "          document.querySelector('#df-3b524a17-22c3-4d4f-8c5e-1f77a29114b0 button.colab-df-convert');\n",
              "        buttonEl.style.display =\n",
              "          google.colab.kernel.accessAllowed ? 'block' : 'none';\n",
              "\n",
              "        async function convertToInteractive(key) {\n",
              "          const element = document.querySelector('#df-3b524a17-22c3-4d4f-8c5e-1f77a29114b0');\n",
              "          const dataTable =\n",
              "            await google.colab.kernel.invokeFunction('convertToInteractive',\n",
              "                                                     [key], {});\n",
              "          if (!dataTable) return;\n",
              "\n",
              "          const docLinkHtml = 'Like what you see? Visit the ' +\n",
              "            '<a target=\"_blank\" href=https://colab.research.google.com/notebooks/data_table.ipynb>data table notebook</a>'\n",
              "            + ' to learn more about interactive tables.';\n",
              "          element.innerHTML = '';\n",
              "          dataTable['output_type'] = 'display_data';\n",
              "          await google.colab.output.renderOutput(dataTable, element);\n",
              "          const docLink = document.createElement('div');\n",
              "          docLink.innerHTML = docLinkHtml;\n",
              "          element.appendChild(docLink);\n",
              "        }\n",
              "      </script>\n",
              "    </div>\n",
              "  </div>\n"
            ]
          },
          "metadata": {},
          "execution_count": 48
        }
      ]
    },
    {
      "cell_type": "code",
      "source": [
        "data = pd.get_dummies(data, columns = ['GENDER'])"
      ],
      "metadata": {
        "id": "6wGKPVOa4PIH"
      },
      "execution_count": 49,
      "outputs": []
    },
    {
      "cell_type": "code",
      "source": [
        "data.info()"
      ],
      "metadata": {
        "colab": {
          "base_uri": "https://localhost:8080/"
        },
        "id": "PG12RyB54UEA",
        "outputId": "f591beed-1325-471f-e061-859cb56ea7b1"
      },
      "execution_count": 50,
      "outputs": [
        {
          "output_type": "stream",
          "name": "stdout",
          "text": [
            "<class 'pandas.core.frame.DataFrame'>\n",
            "RangeIndex: 58197 entries, 0 to 58196\n",
            "Columns: 765 entries, FFP_TIER to GENDER_Male\n",
            "dtypes: float64(5), int64(9), uint8(751)\n",
            "memory usage: 47.9 MB\n"
          ]
        }
      ]
    },
    {
      "cell_type": "code",
      "source": [
        "data.dtypes"
      ],
      "metadata": {
        "colab": {
          "base_uri": "https://localhost:8080/"
        },
        "id": "K8Qz5dOY5wt-",
        "outputId": "5f910496-0016-4541-e032-399906a15ed6"
      },
      "execution_count": 52,
      "outputs": [
        {
          "output_type": "execute_result",
          "data": {
            "text/plain": [
              "FFP_TIER                     int64\n",
              "AGE                        float64\n",
              "FLIGHT_COUNT                 int64\n",
              "BP_SUM                       int64\n",
              "SUM_YR_1                   float64\n",
              "                            ...   \n",
              "WORK_PROVINCE_shanxian      uint8\n",
              "WORK_PROVINCE_－              uint8\n",
              "WORK_PROVINCE_．              uint8\n",
              "GENDER_Female                uint8\n",
              "GENDER_Male                  uint8\n",
              "Length: 765, dtype: object"
            ]
          },
          "metadata": {},
          "execution_count": 52
        }
      ]
    },
    {
      "cell_type": "code",
      "source": [
        "data.info(verbose = True, show_counts = True)"
      ],
      "metadata": {
        "colab": {
          "base_uri": "https://localhost:8080/"
        },
        "id": "1up7F9Un509X",
        "outputId": "b7b988a8-2e22-4b9c-d91b-babe66813316"
      },
      "execution_count": 53,
      "outputs": [
        {
          "output_type": "stream",
          "name": "stdout",
          "text": [
            "<class 'pandas.core.frame.DataFrame'>\n",
            "RangeIndex: 58197 entries, 0 to 58196\n",
            "Data columns (total 765 columns):\n",
            " #    Column                                       Non-Null Count  Dtype  \n",
            "---   ------                                       --------------  -----  \n",
            " 0    FFP_TIER                                     58197 non-null  int64  \n",
            " 1    AGE                                          58197 non-null  float64\n",
            " 2    FLIGHT_COUNT                                 58197 non-null  int64  \n",
            " 3    BP_SUM                                       58197 non-null  int64  \n",
            " 4    SUM_YR_1                                     58197 non-null  float64\n",
            " 5    SUM_YR_2                                     58197 non-null  float64\n",
            " 6    SEG_KM_SUM                                   58197 non-null  int64  \n",
            " 7    LAST_TO_END                                  58197 non-null  int64  \n",
            " 8    AVG_INTERVAL                                 58197 non-null  float64\n",
            " 9    MAX_INTERVAL                                 58197 non-null  int64  \n",
            " 10   EXCHANGE_COUNT                               58197 non-null  int64  \n",
            " 11   avg_discount                                 58197 non-null  float64\n",
            " 12   Points_Sum                                   58197 non-null  int64  \n",
            " 13   Point_NotFlight                              58197 non-null  int64  \n",
            " 14   WORK_COUNTRY_CN                              58197 non-null  uint8  \n",
            " 15   WORK_COUNTRY_HK                              58197 non-null  uint8  \n",
            " 16   WORK_COUNTRY_JP                              58197 non-null  uint8  \n",
            " 17   WORK_COUNTRY_KR                              58197 non-null  uint8  \n",
            " 18   WORK_COUNTRY_US                              58197 non-null  uint8  \n",
            " 19   WORK_PROVINCE_#NAME?                         58197 non-null  uint8  \n",
            " 20   WORK_PROVINCE_*                              58197 non-null  uint8  \n",
            " 21   WORK_PROVINCE_**                             58197 non-null  uint8  \n",
            " 22   WORK_PROVINCE_-                              58197 non-null  uint8  \n",
            " 23   WORK_PROVINCE_--                             58197 non-null  uint8  \n",
            " 24   WORK_PROVINCE_---                            58197 non-null  uint8  \n",
            " 25   WORK_PROVINCE_.                              58197 non-null  uint8  \n",
            " 26   WORK_PROVINCE_..                             58197 non-null  uint8  \n",
            " 27   WORK_PROVINCE_.beijing                       58197 non-null  uint8  \n",
            " 28   WORK_PROVINCE_.guangxizhuangzuzizhiqu        58197 non-null  uint8  \n",
            " 29   WORK_PROVINCE_.hubei                         58197 non-null  uint8  \n",
            " 30   WORK_PROVINCE_.shanghai                      58197 non-null  uint8  \n",
            " 31   WORK_PROVINCE_.yunnan                        58197 non-null  uint8  \n",
            " 32   WORK_PROVINCE_.zhongqingshi                  58197 non-null  uint8  \n",
            " 33   WORK_PROVINCE_/                              58197 non-null  uint8  \n",
            " 34   WORK_PROVINCE_0                              58197 non-null  uint8  \n",
            " 35   WORK_PROVINCE_1                              58197 non-null  uint8  \n",
            " 36   WORK_PROVINCE_7/12/1964                      58197 non-null  uint8  \n",
            " 37   WORK_PROVINCE_96081184                       58197 non-null  uint8  \n",
            " 38   WORK_PROVINCE_=                              58197 non-null  uint8  \n",
            " 39   WORK_PROVINCE_AICH                           58197 non-null  uint8  \n",
            " 40   WORK_PROVINCE_AICHI                          58197 non-null  uint8  \n",
            " 41   WORK_PROVINCE_AICHI PREF                     58197 non-null  uint8  \n",
            " 42   WORK_PROVINCE_AICHI-KEN                      58197 non-null  uint8  \n",
            " 43   WORK_PROVINCE_AICHIKEN                       58197 non-null  uint8  \n",
            " 44   WORK_PROVINCE_AKITA                          58197 non-null  uint8  \n",
            " 45   WORK_PROVINCE_ALHAMBRA CA                    58197 non-null  uint8  \n",
            " 46   WORK_PROVINCE_ANSAN-SI                       58197 non-null  uint8  \n",
            " 47   WORK_PROVINCE_AOMORI-KEN                     58197 non-null  uint8  \n",
            " 48   WORK_PROVINCE_ARIZDNA                        58197 non-null  uint8  \n",
            " 49   WORK_PROVINCE_ARROMD                         58197 non-null  uint8  \n",
            " 50   WORK_PROVINCE_AUD                            58197 non-null  uint8  \n",
            " 51   WORK_PROVINCE_AZ                             58197 non-null  uint8  \n",
            " 52   WORK_PROVINCE_Aichi                          58197 non-null  uint8  \n",
            " 53   WORK_PROVINCE_Aichi-ken                      58197 non-null  uint8  \n",
            " 54   WORK_PROVINCE_BAKU                           58197 non-null  uint8  \n",
            " 55   WORK_PROVINCE_BANGZADESH                     58197 non-null  uint8  \n",
            " 56   WORK_PROVINCE_BC                             58197 non-null  uint8  \n",
            " 57   WORK_PROVINCE_BEIJING                        58197 non-null  uint8  \n",
            " 58   WORK_PROVINCE_BIJING                         58197 non-null  uint8  \n",
            " 59   WORK_PROVINCE_BISHKEK                        58197 non-null  uint8  \n",
            " 60   WORK_PROVINCE_BRIARCLIFF　MANOL               58197 non-null  uint8  \n",
            " 61   WORK_PROVINCE_BUCHEON-SI                     58197 non-null  uint8  \n",
            " 62   WORK_PROVINCE_BUPYENG=GU                     58197 non-null  uint8  \n",
            " 63   WORK_PROVINCE_BUSAN                          58197 non-null  uint8  \n",
            " 64   WORK_PROVINCE_BeiJing                        58197 non-null  uint8  \n",
            " 65   WORK_PROVINCE_Beijing                        58197 non-null  uint8  \n",
            " 66   WORK_PROVINCE_Busan                          58197 non-null  uint8  \n",
            " 67   WORK_PROVINCE_C                              58197 non-null  uint8  \n",
            " 68   WORK_PROVINCE_CA                             58197 non-null  uint8  \n",
            " 69   WORK_PROVINCE_CA 91303                       58197 non-null  uint8  \n",
            " 70   WORK_PROVINCE_CA 92870                       58197 non-null  uint8  \n",
            " 71   WORK_PROVINCE_CA 94539                       58197 non-null  uint8  \n",
            " 72   WORK_PROVINCE_CA91030                        58197 non-null  uint8  \n",
            " 73   WORK_PROVINCE_CACI                           58197 non-null  uint8  \n",
            " 74   WORK_PROVINCE_CAL                            58197 non-null  uint8  \n",
            " 75   WORK_PROVINCE_CALFORNIA                      58197 non-null  uint8  \n",
            " 76   WORK_PROVINCE_CALIF                          58197 non-null  uint8  \n",
            " 77   WORK_PROVINCE_CALIFONNIA                     58197 non-null  uint8  \n",
            " 78   WORK_PROVINCE_CALIFORMA                      58197 non-null  uint8  \n",
            " 79   WORK_PROVINCE_CALIFORNCA                     58197 non-null  uint8  \n",
            " 80   WORK_PROVINCE_CALIFORNIA                     58197 non-null  uint8  \n",
            " 81   WORK_PROVINCE_CALIFOXHIOA                    58197 non-null  uint8  \n",
            " 82   WORK_PROVINCE_CANTON                         58197 non-null  uint8  \n",
            " 83   WORK_PROVINCE_CHAI WAN                       58197 non-null  uint8  \n",
            " 84   WORK_PROVINCE_CHIBA                          58197 non-null  uint8  \n",
            " 85   WORK_PROVINCE_CHIBA FNRF                     58197 non-null  uint8  \n",
            " 86   WORK_PROVINCE_CHIBA PREF.                    58197 non-null  uint8  \n",
            " 87   WORK_PROVINCE_CHIBA-KEN                      58197 non-null  uint8  \n",
            " 88   WORK_PROVINCE_CHIBAKEN                       58197 non-null  uint8  \n",
            " 89   WORK_PROVINCE_CHIO                           58197 non-null  uint8  \n",
            " 90   WORK_PROVINCE_CHUNCHEON-SI                   58197 non-null  uint8  \n",
            " 91   WORK_PROVINCE_CHUNG-GU                       58197 non-null  uint8  \n",
            " 92   WORK_PROVINCE_CHUNGRANG-GU                   58197 non-null  uint8  \n",
            " 93   WORK_PROVINCE_CIBA                           58197 non-null  uint8  \n",
            " 94   WORK_PROVINCE_CL                             58197 non-null  uint8  \n",
            " 95   WORK_PROVINCE_CN                             58197 non-null  uint8  \n",
            " 96   WORK_PROVINCE_CO                             58197 non-null  uint8  \n",
            " 97   WORK_PROVINCE_COLORADO                       58197 non-null  uint8  \n",
            " 98   WORK_PROVINCE_CONNECTICUT                    58197 non-null  uint8  \n",
            " 99   WORK_PROVINCE_CUISCONSIN                     58197 non-null  uint8  \n",
            " 100  WORK_PROVINCE_CZ                             58197 non-null  uint8  \n",
            " 101  WORK_PROVINCE_Ca                             58197 non-null  uint8  \n",
            " 102  WORK_PROVINCE_Califorina                     58197 non-null  uint8  \n",
            " 103  WORK_PROVINCE_California                     58197 non-null  uint8  \n",
            " 104  WORK_PROVINCE_Chiba-ken                      58197 non-null  uint8  \n",
            " 105  WORK_PROVINCE_Choning district               58197 non-null  uint8  \n",
            " 106  WORK_PROVINCE_Chungcheongbuk-do              58197 non-null  uint8  \n",
            " 107  WORK_PROVINCE_Chungcheongnam-do              58197 non-null  uint8  \n",
            " 108  WORK_PROVINCE_Colorado                       58197 non-null  uint8  \n",
            " 109  WORK_PROVINCE_Cunmmaken                      58197 non-null  uint8  \n",
            " 110  WORK_PROVINCE_DA                             58197 non-null  uint8  \n",
            " 111  WORK_PROVINCE_DAE-GU                         58197 non-null  uint8  \n",
            " 112  WORK_PROVINCE_DAEJEON                        58197 non-null  uint8  \n",
            " 113  WORK_PROVINCE_DAEJUN                         58197 non-null  uint8  \n",
            " 114  WORK_PROVINCE_DEOKJIN                        58197 non-null  uint8  \n",
            " 115  WORK_PROVINCE_DFDF                           58197 non-null  uint8  \n",
            " 116  WORK_PROVINCE_DONG-GU                        58197 non-null  uint8  \n",
            " 117  WORK_PROVINCE_DONGDAEMUN-GU                  58197 non-null  uint8  \n",
            " 118  WORK_PROVINCE_DR                             58197 non-null  uint8  \n",
            " 119  WORK_PROVINCE_DYOUNGGI-DO                    58197 non-null  uint8  \n",
            " 120  WORK_PROVINCE_Daegu                          58197 non-null  uint8  \n",
            " 121  WORK_PROVINCE_Daejeon                        58197 non-null  uint8  \n",
            " 122  WORK_PROVINCE_Dalseo-gu                      58197 non-null  uint8  \n",
            " 123  WORK_PROVINCE_E MALAYSIA                     58197 non-null  uint8  \n",
            " 124  WORK_PROVINCE_EALIFORNIA                     58197 non-null  uint8  \n",
            " 125  WORK_PROVINCE_EHIME-KEN                      58197 non-null  uint8  \n",
            " 126  WORK_PROVINCE_EL SEGUNDO                     58197 non-null  uint8  \n",
            " 127  WORK_PROVINCE_EUNPYENG-GU                    58197 non-null  uint8  \n",
            " 128  WORK_PROVINCE_Ehime-ken                      58197 non-null  uint8  \n",
            " 129  WORK_PROVINCE_Eunpyeong-gu                   58197 non-null  uint8  \n",
            " 130  WORK_PROVINCE_FL                             58197 non-null  uint8  \n",
            " 131  WORK_PROVINCE_FLEVV LAND                     58197 non-null  uint8  \n",
            " 132  WORK_PROVINCE_FLORIDA                        58197 non-null  uint8  \n",
            " 133  WORK_PROVINCE_FO TAN                         58197 non-null  uint8  \n",
            " 134  WORK_PROVINCE_FUKUI                          58197 non-null  uint8  \n",
            " 135  WORK_PROVINCE_FUKUI-KEN                      58197 non-null  uint8  \n",
            " 136  WORK_PROVINCE_FUKUOKA                        58197 non-null  uint8  \n",
            " 137  WORK_PROVINCE_FUKUOKA-KEN                    58197 non-null  uint8  \n",
            " 138  WORK_PROVINCE_FUKUSHIMA-KEN                  58197 non-null  uint8  \n",
            " 139  WORK_PROVINCE_Fukuoka-ken                    58197 non-null  uint8  \n",
            " 140  WORK_PROVINCE_G1FU                           58197 non-null  uint8  \n",
            " 141  WORK_PROVINCE_GA                             58197 non-null  uint8  \n",
            " 142  WORK_PROVINCE_GANG HOUE                      58197 non-null  uint8  \n",
            " 143  WORK_PROVINCE_GANGDONG-GU                    58197 non-null  uint8  \n",
            " 144  WORK_PROVINCE_GANGNAM-GU                     58197 non-null  uint8  \n",
            " 145  WORK_PROVINCE_GANGSEO-GU                     58197 non-null  uint8  \n",
            " 146  WORK_PROVINCE_GANGSEOGU                      58197 non-null  uint8  \n",
            " 147  WORK_PROVINCE_GIFU                           58197 non-null  uint8  \n",
            " 148  WORK_PROVINCE_GIFU   JAPAN                   58197 non-null  uint8  \n",
            " 149  WORK_PROVINCE_GIFU PREFECTURE                58197 non-null  uint8  \n",
            " 150  WORK_PROVINCE_GIFU-KEN                       58197 non-null  uint8  \n",
            " 151  WORK_PROVINCE_GIFU-PREF                      58197 non-null  uint8  \n",
            " 152  WORK_PROVINCE_GIFVKEN                        58197 non-null  uint8  \n",
            " 153  WORK_PROVINCE_GOYANG-SI                      58197 non-null  uint8  \n",
            " 154  WORK_PROVINCE_GUAM                           58197 non-null  uint8  \n",
            " 155  WORK_PROVINCE_GUANDONG                       58197 non-null  uint8  \n",
            " 156  WORK_PROVINCE_GUANGDONG                      58197 non-null  uint8  \n",
            " 157  WORK_PROVINCE_GUANGDONG　                     58197 non-null  uint8  \n",
            " 158  WORK_PROVINCE_GUANGZHOU                      58197 non-null  uint8  \n",
            " 159  WORK_PROVINCE_GUMMA-KEN                      58197 non-null  uint8  \n",
            " 160  WORK_PROVINCE_GUNMA                          58197 non-null  uint8  \n",
            " 161  WORK_PROVINCE_GURI                           58197 non-null  uint8  \n",
            " 162  WORK_PROVINCE_GV                             58197 non-null  uint8  \n",
            " 163  WORK_PROVINCE_GYEONGGI                       58197 non-null  uint8  \n",
            " 164  WORK_PROVINCE_GYEONGGI-DO                    58197 non-null  uint8  \n",
            " 165  WORK_PROVINCE_GYOGO                          58197 non-null  uint8  \n",
            " 166  WORK_PROVINCE_GYUNG GI                       58197 non-null  uint8  \n",
            " 167  WORK_PROVINCE_Gangdong-gu                    58197 non-null  uint8  \n",
            " 168  WORK_PROVINCE_Gangnam-gu                     58197 non-null  uint8  \n",
            " 169  WORK_PROVINCE_Gangwon-do                     58197 non-null  uint8  \n",
            " 170  WORK_PROVINCE_Gifu-ken                       58197 non-null  uint8  \n",
            " 171  WORK_PROVINCE_Guangdong                      58197 non-null  uint8  \n",
            " 172  WORK_PROVINCE_Gwangju                        58197 non-null  uint8  \n",
            " 173  WORK_PROVINCE_Gwangmyeong-si                 58197 non-null  uint8  \n",
            " 174  WORK_PROVINCE_Gyeonggi-do                    58197 non-null  uint8  \n",
            " 175  WORK_PROVINCE_Gyeongsangbuk-do               58197 non-null  uint8  \n",
            " 176  WORK_PROVINCE_Gyeongsangnam-do               58197 non-null  uint8  \n",
            " 177  WORK_PROVINCE_Gyung gi-Do                    58197 non-null  uint8  \n",
            " 178  WORK_PROVINCE_H.K.                           58197 non-null  uint8  \n",
            " 179  WORK_PROVINCE_HAKKAIDO                       58197 non-null  uint8  \n",
            " 180  WORK_PROVINCE_HAWAII                         58197 non-null  uint8  \n",
            " 181  WORK_PROVINCE_HI                             58197 non-null  uint8  \n",
            " 182  WORK_PROVINCE_HIROSHIMA                      58197 non-null  uint8  \n",
            " 183  WORK_PROVINCE_HIROSHIMA PREFECTURE           58197 non-null  uint8  \n",
            " 184  WORK_PROVINCE_HIROSHIMA-KAN                  58197 non-null  uint8  \n",
            " 185  WORK_PROVINCE_HIROSHIMA-KEN                  58197 non-null  uint8  \n",
            " 186  WORK_PROVINCE_HIROSHIMA-PRE                  58197 non-null  uint8  \n",
            " 187  WORK_PROVINCE_HIROSHIMA-ken                  58197 non-null  uint8  \n",
            " 188  WORK_PROVINCE_HK                             58197 non-null  uint8  \n",
            " 189  WORK_PROVINCE_HKG                            58197 non-null  uint8  \n",
            " 190  WORK_PROVINCE_HOKKAIDO                       58197 non-null  uint8  \n",
            " 191  WORK_PROVINCE_HONG KOING                     58197 non-null  uint8  \n",
            " 192  WORK_PROVINCE_HONG KONG                      58197 non-null  uint8  \n",
            " 193  WORK_PROVINCE_HONGKANG                       58197 non-null  uint8  \n",
            " 194  WORK_PROVINCE_HONGKONG                       58197 non-null  uint8  \n",
            " 195  WORK_PROVINCE_HONGKONG SAR                   58197 non-null  uint8  \n",
            " 196  WORK_PROVINCE_HUBEI                          58197 non-null  uint8  \n",
            " 197  WORK_PROVINCE_HUMBURG                        58197 non-null  uint8  \n",
            " 198  WORK_PROVINCE_HUNG HOM KOW LOON              58197 non-null  uint8  \n",
            " 199  WORK_PROVINCE_HYOGO                          58197 non-null  uint8  \n",
            " 200  WORK_PROVINCE_HYOGO KEN                      58197 non-null  uint8  \n",
            " 201  WORK_PROVINCE_HYOGO PRE                      58197 non-null  uint8  \n",
            " 202  WORK_PROVINCE_HYOGO PRET                     58197 non-null  uint8  \n",
            " 203  WORK_PROVINCE_HYOGO-KEN                      58197 non-null  uint8  \n",
            " 204  WORK_PROVINCE_Hiroshima-ken                  58197 non-null  uint8  \n",
            " 205  WORK_PROVINCE_Hong KOng                      58197 non-null  uint8  \n",
            " 206  WORK_PROVINCE_Hong Kong                      58197 non-null  uint8  \n",
            " 207  WORK_PROVINCE_Hongkong                       58197 non-null  uint8  \n",
            " 208  WORK_PROVINCE_HuBei                          58197 non-null  uint8  \n",
            " 209  WORK_PROVINCE_Hyogo-ken                      58197 non-null  uint8  \n",
            " 210  WORK_PROVINCE_IBARAKI                        58197 non-null  uint8  \n",
            " 211  WORK_PROVINCE_IC                             58197 non-null  uint8  \n",
            " 212  WORK_PROVINCE_IDAHO                          58197 non-null  uint8  \n",
            " 213  WORK_PROVINCE_IL                             58197 non-null  uint8  \n",
            " 214  WORK_PROVINCE_ILL                            58197 non-null  uint8  \n",
            " 215  WORK_PROVINCE_ILLINOIS                       58197 non-null  uint8  \n",
            " 216  WORK_PROVINCE_IN                             58197 non-null  uint8  \n",
            " 217  WORK_PROVINCE_INCHEON                        58197 non-null  uint8  \n",
            " 218  WORK_PROVINCE_ISHIKAWA                       58197 non-null  uint8  \n",
            " 219  WORK_PROVINCE_ISHIKAWA-KEN                   58197 non-null  uint8  \n",
            " 220  WORK_PROVINCE_IWATE-KEN                      58197 non-null  uint8  \n",
            " 221  WORK_PROVINCE_IWATEKEN                       58197 non-null  uint8  \n",
            " 222  WORK_PROVINCE_Illinois                       58197 non-null  uint8  \n",
            " 223  WORK_PROVINCE_Incheon                        58197 non-null  uint8  \n",
            " 224  WORK_PROVINCE_Ishikawa-ken                   58197 non-null  uint8  \n",
            " 225  WORK_PROVINCE_JAPAN                          58197 non-null  uint8  \n",
            " 226  WORK_PROVINCE_JEOLLABUK-DO                   58197 non-null  uint8  \n",
            " 227  WORK_PROVINCE_JIANGSU                        58197 non-null  uint8  \n",
            " 228  WORK_PROVINCE_JUNGGU                         58197 non-null  uint8  \n",
            " 229  WORK_PROVINCE_Jeollabuk-do                   58197 non-null  uint8  \n",
            " 230  WORK_PROVINCE_Jeollanam-do                   58197 non-null  uint8  \n",
            " 231  WORK_PROVINCE_Jiangsu                        58197 non-null  uint8  \n",
            " 232  WORK_PROVINCE_Jung-gu                        58197 non-null  uint8  \n",
            " 233  WORK_PROVINCE_KAGAWA                         58197 non-null  uint8  \n",
            " 234  WORK_PROVINCE_KAGAWA KEN                     58197 non-null  uint8  \n",
            " 235  WORK_PROVINCE_KAGAWA-KEN                     58197 non-null  uint8  \n",
            " 236  WORK_PROVINCE_KAGOSHIMA-KEN                  58197 non-null  uint8  \n",
            " 237  WORK_PROVINCE_KAMIINA GUN                    58197 non-null  uint8  \n",
            " 238  WORK_PROVINCE_KANAGAWA                       58197 non-null  uint8  \n",
            " 239  WORK_PROVINCE_KANAGAWA-KEN                   58197 non-null  uint8  \n",
            " 240  WORK_PROVINCE_KANAGAWAKEY                    58197 non-null  uint8  \n",
            " 241  WORK_PROVINCE_KANG WON-DO                    58197 non-null  uint8  \n",
            " 242  WORK_PROVINCE_KANGAWA                        58197 non-null  uint8  \n",
            " 243  WORK_PROVINCE_KANGMAM-GU                     58197 non-null  uint8  \n",
            " 244  WORK_PROVINCE_KANSAS                         58197 non-null  uint8  \n",
            " 245  WORK_PROVINCE_KEUMCHEON-KU                   58197 non-null  uint8  \n",
            " 246  WORK_PROVINCE_KIMPO-SI                       58197 non-null  uint8  \n",
            " 247  WORK_PROVINCE_KLN                            58197 non-null  uint8  \n",
            " 248  WORK_PROVINCE_KOCHI                          58197 non-null  uint8  \n",
            " 249  WORK_PROVINCE_KORDA                          58197 non-null  uint8  \n",
            " 250  WORK_PROVINCE_KOREA                          58197 non-null  uint8  \n",
            " 251  WORK_PROVINCE_KOSTROMA                       58197 non-null  uint8  \n",
            " 252  WORK_PROVINCE_KOWLOON                        58197 non-null  uint8  \n",
            " 253  WORK_PROVINCE_KOYANG-CITY                    58197 non-null  uint8  \n",
            " 254  WORK_PROVINCE_KR                             58197 non-null  uint8  \n",
            " 255  WORK_PROVINCE_KUMAMOFO                       58197 non-null  uint8  \n",
            " 256  WORK_PROVINCE_KUMAMOTO-KEN                   58197 non-null  uint8  \n",
            " 257  WORK_PROVINCE_KWANG AK GU                    58197 non-null  uint8  \n",
            " 258  WORK_PROVINCE_KWANGMYUNG-SI                  58197 non-null  uint8  \n",
            " 259  WORK_PROVINCE_KWENG KI                       58197 non-null  uint8  \n",
            " 260  WORK_PROVINCE_KYEONG K1-DO                   58197 non-null  uint8  \n",
            " 261  WORK_PROVINCE_KYEONG KI                      58197 non-null  uint8  \n",
            " 262  WORK_PROVINCE_KYEONGBUK                      58197 non-null  uint8  \n",
            " 263  WORK_PROVINCE_KYOGO PREF                     58197 non-null  uint8  \n",
            " 264  WORK_PROVINCE_KYORO-PREFECTURE               58197 non-null  uint8  \n",
            " 265  WORK_PROVINCE_KYOTO-FU                       58197 non-null  uint8  \n",
            " 266  WORK_PROVINCE_KYUNG GI -DO                   58197 non-null  uint8  \n",
            " 267  WORK_PROVINCE_KYUNGGI                        58197 non-null  uint8  \n",
            " 268  WORK_PROVINCE_KYUNGGI-DO                     58197 non-null  uint8  \n",
            " 269  WORK_PROVINCE_KYUNGGIDO                      58197 non-null  uint8  \n",
            " 270  WORK_PROVINCE_KYUNGKI-DO                     58197 non-null  uint8  \n",
            " 271  WORK_PROVINCE_KYUNGNAM                       58197 non-null  uint8  \n",
            " 272  WORK_PROVINCE_Kagoshima                      58197 non-null  uint8  \n",
            " 273  WORK_PROVINCE_Kanagawa                       58197 non-null  uint8  \n",
            " 274  WORK_PROVINCE_Kanagawa-ken                   58197 non-null  uint8  \n",
            " 275  WORK_PROVINCE_Kanagawaken                    58197 non-null  uint8  \n",
            " 276  WORK_PROVINCE_Kumamoto-ken                   58197 non-null  uint8  \n",
            " 277  WORK_PROVINCE_Kyoto-fu                       58197 non-null  uint8  \n",
            " 278  WORK_PROVINCE_Kyung buk province             58197 non-null  uint8  \n",
            " 279  WORK_PROVINCE_L.A.                           58197 non-null  uint8  \n",
            " 280  WORK_PROVINCE_LA                             58197 non-null  uint8  \n",
            " 281  WORK_PROVINCE_LIMA                           58197 non-null  uint8  \n",
            " 282  WORK_PROVINCE_LiaoNing                       58197 non-null  uint8  \n",
            " 283  WORK_PROVINCE_MA                             58197 non-null  uint8  \n",
            " 284  WORK_PROVINCE_MANILA                         58197 non-null  uint8  \n",
            " 285  WORK_PROVINCE_MAPO                           58197 non-null  uint8  \n",
            " 286  WORK_PROVINCE_MARYLAND                       58197 non-null  uint8  \n",
            " 287  WORK_PROVINCE_MD                             58197 non-null  uint8  \n",
            " 288  WORK_PROVINCE_MI                             58197 non-null  uint8  \n",
            " 289  WORK_PROVINCE_MICHIGAN                       58197 non-null  uint8  \n",
            " 290  WORK_PROVINCE_MIE                            58197 non-null  uint8  \n",
            " 291  WORK_PROVINCE_MIE PREF                       58197 non-null  uint8  \n",
            " 292  WORK_PROVINCE_MIE-KEN                        58197 non-null  uint8  \n",
            " 293  WORK_PROVINCE_MIE-PRF                        58197 non-null  uint8  \n",
            " 294  WORK_PROVINCE_MIYAGI                         58197 non-null  uint8  \n",
            " 295  WORK_PROVINCE_MIYAGI-KEN                     58197 non-null  uint8  \n",
            " 296  WORK_PROVINCE_MN                             58197 non-null  uint8  \n",
            " 297  WORK_PROVINCE_MO                             58197 non-null  uint8  \n",
            " 298  WORK_PROVINCE_MONTTK?? PARK                  58197 non-null  uint8  \n",
            " 299  WORK_PROVINCE_MS                             58197 non-null  uint8  \n",
            " 300  WORK_PROVINCE_Ma                             58197 non-null  uint8  \n",
            " 301  WORK_PROVINCE_Mie-ken                        58197 non-null  uint8  \n",
            " 302  WORK_PROVINCE_Missouri                       58197 non-null  uint8  \n",
            " 303  WORK_PROVINCE_Miyazaki-ken                   58197 non-null  uint8  \n",
            " 304  WORK_PROVINCE_N                              58197 non-null  uint8  \n",
            " 305  WORK_PROVINCE_N.Y                            58197 non-null  uint8  \n",
            " 306  WORK_PROVINCE_NAGANO                         58197 non-null  uint8  \n",
            " 307  WORK_PROVINCE_NAGANO-KEN                     58197 non-null  uint8  \n",
            " 308  WORK_PROVINCE_NAGASAKI                       58197 non-null  uint8  \n",
            " 309  WORK_PROVINCE_NAGASAKI-KEN                   58197 non-null  uint8  \n",
            " 310  WORK_PROVINCE_NAGOYA                         58197 non-null  uint8  \n",
            " 311  WORK_PROVINCE_NAMDONG-GU                     58197 non-null  uint8  \n",
            " 312  WORK_PROVINCE_NAMYANGJU-ST                   58197 non-null  uint8  \n",
            " 313  WORK_PROVINCE_NARA                           58197 non-null  uint8  \n",
            " 314  WORK_PROVINCE_NARA PRF                       58197 non-null  uint8  \n",
            " 315  WORK_PROVINCE_NARA-KEN                       58197 non-null  uint8  \n",
            " 316  WORK_PROVINCE_NC                             58197 non-null  uint8  \n",
            " 317  WORK_PROVINCE_NEVADA                         58197 non-null  uint8  \n",
            " 318  WORK_PROVINCE_NEW JERSEY                     58197 non-null  uint8  \n",
            " 319  WORK_PROVINCE_NEW JERSLY                     58197 non-null  uint8  \n",
            " 320  WORK_PROVINCE_NEW YORK                       58197 non-null  uint8  \n",
            " 321  WORK_PROVINCE_NEWJERSEY                      58197 non-null  uint8  \n",
            " 322  WORK_PROVINCE_NEWYORK                        58197 non-null  uint8  \n",
            " 323  WORK_PROVINCE_NH                             58197 non-null  uint8  \n",
            " 324  WORK_PROVINCE_NIIGATA                        58197 non-null  uint8  \n",
            " 325  WORK_PROVINCE_NIIGATA-KEN                    58197 non-null  uint8  \n",
            " 326  WORK_PROVINCE_NIL                            58197 non-null  uint8  \n",
            " 327  WORK_PROVINCE_NJ                             58197 non-null  uint8  \n",
            " 328  WORK_PROVINCE_NORTH CARLINA                  58197 non-null  uint8  \n",
            " 329  WORK_PROVINCE_NORTH YORKSHIRE                58197 non-null  uint8  \n",
            " 330  WORK_PROVINCE_NORTHCANOLINA                  58197 non-null  uint8  \n",
            " 331  WORK_PROVINCE_NORTUUMBGRLAND                 58197 non-null  uint8  \n",
            " 332  WORK_PROVINCE_NT                             58197 non-null  uint8  \n",
            " 333  WORK_PROVINCE_NV                             58197 non-null  uint8  \n",
            " 334  WORK_PROVINCE_NW                             58197 non-null  uint8  \n",
            " 335  WORK_PROVINCE_NY                             58197 non-null  uint8  \n",
            " 336  WORK_PROVINCE_NYC                            58197 non-null  uint8  \n",
            " 337  WORK_PROVINCE_Nagano-ken                     58197 non-null  uint8  \n",
            " 338  WORK_PROVINCE_Nagasaki-ken                   58197 non-null  uint8  \n",
            " 339  WORK_PROVINCE_Namdong-gu                     58197 non-null  uint8  \n",
            " 340  WORK_PROVINCE_Namyangju-si                   58197 non-null  uint8  \n",
            " 341  WORK_PROVINCE_Nara-ken                       58197 non-null  uint8  \n",
            " 342  WORK_PROVINCE_New Jersey                     58197 non-null  uint8  \n",
            " 343  WORK_PROVINCE_Niigata-ken                    58197 non-null  uint8  \n",
            " 344  WORK_PROVINCE_OH                             58197 non-null  uint8  \n",
            " 345  WORK_PROVINCE_OH10                           58197 non-null  uint8  \n",
            " 346  WORK_PROVINCE_OHIO                           58197 non-null  uint8  \n",
            " 347  WORK_PROVINCE_OITA-KEN                       58197 non-null  uint8  \n",
            " 348  WORK_PROVINCE_OKAYAMA                        58197 non-null  uint8  \n",
            " 349  WORK_PROVINCE_OKAYAMA-KEN                    58197 non-null  uint8  \n",
            " 350  WORK_PROVINCE_OKLAHOMA                       58197 non-null  uint8  \n",
            " 351  WORK_PROVINCE_ONEGON                         58197 non-null  uint8  \n",
            " 352  WORK_PROVINCE_ONGGI-DO                       58197 non-null  uint8  \n",
            " 353  WORK_PROVINCE_ONTARIO                        58197 non-null  uint8  \n",
            " 354  WORK_PROVINCE_OR                             58197 non-null  uint8  \n",
            " 355  WORK_PROVINCE_OSAKA                          58197 non-null  uint8  \n",
            " 356  WORK_PROVINCE_OSAKA PRE                      58197 non-null  uint8  \n",
            " 357  WORK_PROVINCE_OSAKA PVF                      58197 non-null  uint8  \n",
            " 358  WORK_PROVINCE_OSAKA-FU                       58197 non-null  uint8  \n",
            " 359  WORK_PROVINCE_OSAKA-PRE                      58197 non-null  uint8  \n",
            " 360  WORK_PROVINCE_OSAKAFU                        58197 non-null  uint8  \n",
            " 361  WORK_PROVINCE_Ohio                           58197 non-null  uint8  \n",
            " 362  WORK_PROVINCE_Okayama-ken                    58197 non-null  uint8  \n",
            " 363  WORK_PROVINCE_Osaka                          58197 non-null  uint8  \n",
            " 364  WORK_PROVINCE_Osaka-fu                       58197 non-null  uint8  \n",
            " 365  WORK_PROVINCE_PA                             58197 non-null  uint8  \n",
            " 366  WORK_PROVINCE_PANAMA                         58197 non-null  uint8  \n",
            " 367  WORK_PROVINCE_PANJAB                         58197 non-null  uint8  \n",
            " 368  WORK_PROVINCE_PARIS                          58197 non-null  uint8  \n",
            " 369  WORK_PROVINCE_PEK                            58197 non-null  uint8  \n",
            " 370  WORK_PROVINCE_PENNSYLVANIA                   58197 non-null  uint8  \n",
            " 371  WORK_PROVINCE_PUSAT                          58197 non-null  uint8  \n",
            " 372  WORK_PROVINCE_PYEUNGTAEK-SI                  58197 non-null  uint8  \n",
            " 373  WORK_PROVINCE_Paju-si                        58197 non-null  uint8  \n",
            " 374  WORK_PROVINCE_Pery                           58197 non-null  uint8  \n",
            " 375  WORK_PROVINCE_RIZAL                          58197 non-null  uint8  \n",
            " 376  WORK_PROVINCE_S.C                            58197 non-null  uint8  \n",
            " 377  WORK_PROVINCE_SAITAMA                        58197 non-null  uint8  \n",
            " 378  WORK_PROVINCE_SAITAMA KEN                    58197 non-null  uint8  \n",
            " 379  WORK_PROVINCE_SAITAMA-KEN                    58197 non-null  uint8  \n",
            " 380  WORK_PROVINCE_SAITMA                         58197 non-null  uint8  \n",
            " 381  WORK_PROVINCE_SAN FRANCISCO                  58197 non-null  uint8  \n",
            " 382  WORK_PROVINCE_SEODAEMUN-GU                   58197 non-null  uint8  \n",
            " 383  WORK_PROVINCE_SEOUL                          58197 non-null  uint8  \n",
            " 384  WORK_PROVINCE_SGN                            58197 non-null  uint8  \n",
            " 385  WORK_PROVINCE_SHANGHAI                       58197 non-null  uint8  \n",
            " 386  WORK_PROVINCE_SHENYANG                       58197 non-null  uint8  \n",
            " 387  WORK_PROVINCE_SHIGA                          58197 non-null  uint8  \n",
            " 388  WORK_PROVINCE_SHIGA-KEN                      58197 non-null  uint8  \n",
            " 389  WORK_PROVINCE_SHIMANE-PRE                    58197 non-null  uint8  \n",
            " 390  WORK_PROVINCE_SHIZUOKA                       58197 non-null  uint8  \n",
            " 391  WORK_PROVINCE_SHIZUOKA PREF                  58197 non-null  uint8  \n",
            " 392  WORK_PROVINCE_SHIZUOKA-KEN                   58197 non-null  uint8  \n",
            " 393  WORK_PROVINCE_SINDH                          58197 non-null  uint8  \n",
            " 394  WORK_PROVINCE_SINGAPOLE                      58197 non-null  uint8  \n",
            " 395  WORK_PROVINCE_SINGAPORE                      58197 non-null  uint8  \n",
            " 396  WORK_PROVINCE_SLTLZUOKA KEN                  58197 non-null  uint8  \n",
            " 397  WORK_PROVINCE_SOURAKUGUNKYOTO                58197 non-null  uint8  \n",
            " 398  WORK_PROVINCE_SOUTH CAROLINA                 58197 non-null  uint8  \n",
            " 399  WORK_PROVINCE_SUSUNG-GU                      58197 non-null  uint8  \n",
            " 400  WORK_PROVINCE_Saitama                        58197 non-null  uint8  \n",
            " 401  WORK_PROVINCE_Saitama-ken                    58197 non-null  uint8  \n",
            " 402  WORK_PROVINCE_Seoul                          58197 non-null  uint8  \n",
            " 403  WORK_PROVINCE_Shanghai                       58197 non-null  uint8  \n",
            " 404  WORK_PROVINCE_Shiga                          58197 non-null  uint8  \n",
            " 405  WORK_PROVINCE_Shiga-ken                      58197 non-null  uint8  \n",
            " 406  WORK_PROVINCE_Shizuoka-ken                   58197 non-null  uint8  \n",
            " 407  WORK_PROVINCE_Songpa-gu                      58197 non-null  uint8  \n",
            " 408  WORK_PROVINCE_TAIWAN                         58197 non-null  uint8  \n",
            " 409  WORK_PROVINCE_TAKARA                         58197 non-null  uint8  \n",
            " 410  WORK_PROVINCE_TAPAN                          58197 non-null  uint8  \n",
            " 411  WORK_PROVINCE_TAYAMA                         58197 non-null  uint8  \n",
            " 412  WORK_PROVINCE_TEXAR                          58197 non-null  uint8  \n",
            " 413  WORK_PROVINCE_TEXAS                          58197 non-null  uint8  \n",
            " 414  WORK_PROVINCE_TF                             58197 non-null  uint8  \n",
            " 415  WORK_PROVINCE_TIANJIN                        58197 non-null  uint8  \n",
            " 416  WORK_PROVINCE_TO                             58197 non-null  uint8  \n",
            " 417  WORK_PROVINCE_TOCHIGI                        58197 non-null  uint8  \n",
            " 418  WORK_PROVINCE_TOCHIGI-KEN                    58197 non-null  uint8  \n",
            " 419  WORK_PROVINCE_TOCHIGKEN                      58197 non-null  uint8  \n",
            " 420  WORK_PROVINCE_TOKTO                          58197 non-null  uint8  \n",
            " 421  WORK_PROVINCE_TOKUSHIMA                      58197 non-null  uint8  \n",
            " 422  WORK_PROVINCE_TOKYO                          58197 non-null  uint8  \n",
            " 423  WORK_PROVINCE_TOKYO-TO                       58197 non-null  uint8  \n",
            " 424  WORK_PROVINCE_TORINO                         58197 non-null  uint8  \n",
            " 425  WORK_PROVINCE_TOSHIMA KU                     58197 non-null  uint8  \n",
            " 426  WORK_PROVINCE_TOTTORI-KEN                    58197 non-null  uint8  \n",
            " 427  WORK_PROVINCE_TOYAMA                         58197 non-null  uint8  \n",
            " 428  WORK_PROVINCE_TOYAMA-KEN                     58197 non-null  uint8  \n",
            " 429  WORK_PROVINCE_TSIBA                          58197 non-null  uint8  \n",
            " 430  WORK_PROVINCE_TX                             58197 non-null  uint8  \n",
            " 431  WORK_PROVINCE_TY                             58197 non-null  uint8  \n",
            " 432  WORK_PROVINCE_Texas                          58197 non-null  uint8  \n",
            " 433  WORK_PROVINCE_Tochigi-ken                    58197 non-null  uint8  \n",
            " 434  WORK_PROVINCE_Tokushima-ken                  58197 non-null  uint8  \n",
            " 435  WORK_PROVINCE_Tokyo                          58197 non-null  uint8  \n",
            " 436  WORK_PROVINCE_Tokyo-to                       58197 non-null  uint8  \n",
            " 437  WORK_PROVINCE_Tottori-ken                    58197 non-null  uint8  \n",
            " 438  WORK_PROVINCE_Toyama-ken                     58197 non-null  uint8  \n",
            " 439  WORK_PROVINCE_ULSAN                          58197 non-null  uint8  \n",
            " 440  WORK_PROVINCE_US                             58197 non-null  uint8  \n",
            " 441  WORK_PROVINCE_USA                            58197 non-null  uint8  \n",
            " 442  WORK_PROVINCE_UTAH                           58197 non-null  uint8  \n",
            " 443  WORK_PROVINCE_UTAN                           58197 non-null  uint8  \n",
            " 444  WORK_PROVINCE_Uiwang-si                      58197 non-null  uint8  \n",
            " 445  WORK_PROVINCE_Ulsan                          58197 non-null  uint8  \n",
            " 446  WORK_PROVINCE_V P                            58197 non-null  uint8  \n",
            " 447  WORK_PROVINCE_VA                             58197 non-null  uint8  \n",
            " 448  WORK_PROVINCE_VIRGINA                        58197 non-null  uint8  \n",
            " 449  WORK_PROVINCE_WA                             58197 non-null  uint8  \n",
            " 450  WORK_PROVINCE_WAKAYAMA                       58197 non-null  uint8  \n",
            " 451  WORK_PROVINCE_WAL-MAZNE                      58197 non-null  uint8  \n",
            " 452  WORK_PROVINCE_WASHINGTON                     58197 non-null  uint8  \n",
            " 453  WORK_PROVINCE_WEST COVINA                    58197 non-null  uint8  \n",
            " 454  WORK_PROVINCE_WI                             58197 non-null  uint8  \n",
            " 455  WORK_PROVINCE_WISCONSIN                      58197 non-null  uint8  \n",
            " 456  WORK_PROVINCE_Wisconsin                      58197 non-null  uint8  \n",
            " 457  WORK_PROVINCE_XIANGGAN                       58197 non-null  uint8  \n",
            " 458  WORK_PROVINCE_XIANGGANG                      58197 non-null  uint8  \n",
            " 459  WORK_PROVINCE_YAGOONA                        58197 non-null  uint8  \n",
            " 460  WORK_PROVINCE_YAMAGATA                       58197 non-null  uint8  \n",
            " 461  WORK_PROVINCE_YAMAGATA-KEN                   58197 non-null  uint8  \n",
            " 462  WORK_PROVINCE_YAMAGUCHI                      58197 non-null  uint8  \n",
            " 463  WORK_PROVINCE_YAMAGUCHI-KEN                  58197 non-null  uint8  \n",
            " 464  WORK_PROVINCE_YAMANASHI PREF.                58197 non-null  uint8  \n",
            " 465  WORK_PROVINCE_YAMANASHI-KEN                  58197 non-null  uint8  \n",
            " 466  WORK_PROVINCE_YAMANASHI-PREF                 58197 non-null  uint8  \n",
            " 467  WORK_PROVINCE_YENJE-GU                       58197 non-null  uint8  \n",
            " 468  WORK_PROVINCE_YENSU                          58197 non-null  uint8  \n",
            " 469  WORK_PROVINCE_YEOSU-SI                       58197 non-null  uint8  \n",
            " 470  WORK_PROVINCE_YICHEON-SI                     58197 non-null  uint8  \n",
            " 471  WORK_PROVINCE_YOUNGDYEUNGPO-GU               58197 non-null  uint8  \n",
            " 472  WORK_PROVINCE_YUSUNG GU                      58197 non-null  uint8  \n",
            " 473  WORK_PROVINCE_Yamaguchi-ken                  58197 non-null  uint8  \n",
            " 474  WORK_PROVINCE_Yeongdeungpo-gu                58197 non-null  uint8  \n",
            " 475  WORK_PROVINCE_Yongin-si                      58197 non-null  uint8  \n",
            " 476  WORK_PROVINCE_Yuen Long                      58197 non-null  uint8  \n",
            " 477  WORK_PROVINCE_`                              58197 non-null  uint8  \n",
            " 478  WORK_PROVINCE_`shanghai                      58197 non-null  uint8  \n",
            " 479  WORK_PROVINCE_aiyuanxian                     58197 non-null  uint8  \n",
            " 480  WORK_PROVINCE_aizhi                          58197 non-null  uint8  \n",
            " 481  WORK_PROVINCE_aizhixian                      58197 non-null  uint8  \n",
            " 482  WORK_PROVINCE_alifornia                      58197 non-null  uint8  \n",
            " 483  WORK_PROVINCE_anhui                          58197 non-null  uint8  \n",
            " 484  WORK_PROVINCE_anhuisheng                     58197 non-null  uint8  \n",
            " 485  WORK_PROVINCE_anzheng                        58197 non-null  uint8  \n",
            " 486  WORK_PROVINCE_aomen                          58197 non-null  uint8  \n",
            " 487  WORK_PROVINCE_baishishi                      58197 non-null  uint8  \n",
            " 488  WORK_PROVINCE_bajisitan                      58197 non-null  uint8  \n",
            " 489  WORK_PROVINCE_baoding                        58197 non-null  uint8  \n",
            " 490  WORK_PROVINCE_bei                            58197 non-null  uint8  \n",
            " 491  WORK_PROVINCE_beijing                        58197 non-null  uint8  \n",
            " 492  WORK_PROVINCE_beijing.                       58197 non-null  uint8  \n",
            " 493  WORK_PROVINCE_beijingju                      58197 non-null  uint8  \n",
            " 494  WORK_PROVINCE_beijingsheng                   58197 non-null  uint8  \n",
            " 495  WORK_PROVINCE_beijingshi                     58197 non-null  uint8  \n",
            " 496  WORK_PROVINCE_beijing、xinjiang               58197 non-null  uint8  \n",
            " 497  WORK_PROVINCE_bingku                         58197 non-null  uint8  \n",
            " 498  WORK_PROVINCE_bingkuxian                     58197 non-null  uint8  \n",
            " 499  WORK_PROVINCE_bulacan                        58197 non-null  uint8  \n",
            " 500  WORK_PROVINCE_ca                             58197 non-null  uint8  \n",
            " 501  WORK_PROVINCE_california                     58197 non-null  uint8  \n",
            " 502  WORK_PROVINCE_can                            58197 non-null  uint8  \n",
            " 503  WORK_PROVINCE_changchun                      58197 non-null  uint8  \n",
            " 504  WORK_PROVINCE_changchunshi                   58197 non-null  uint8  \n",
            " 505  WORK_PROVINCE_changqi                        58197 non-null  uint8  \n",
            " 506  WORK_PROVINCE_changye                        58197 non-null  uint8  \n",
            " 507  WORK_PROVINCE_changzhou                      58197 non-null  uint8  \n",
            " 508  WORK_PROVINCE_chencun                        58197 non-null  uint8  \n",
            " 509  WORK_PROVINCE_chengdu                        58197 non-null  uint8  \n",
            " 510  WORK_PROVINCE_chiba                          58197 non-null  uint8  \n",
            " 511  WORK_PROVINCE_chuanyue                       58197 non-null  uint8  \n",
            " 512  WORK_PROVINCE_cichengxian                    58197 non-null  uint8  \n",
            " 513  WORK_PROVINCE_cn                             58197 non-null  uint8  \n",
            " 514  WORK_PROVINCE_cto                            58197 non-null  uint8  \n",
            " 515  WORK_PROVINCE_daban                          58197 non-null  uint8  \n",
            " 516  WORK_PROVINCE_dabanfu                        58197 non-null  uint8  \n",
            " 517  WORK_PROVINCE_dagufu                         58197 non-null  uint8  \n",
            " 518  WORK_PROVINCE_dalian                         58197 non-null  uint8  \n",
            " 519  WORK_PROVINCE_daogenxian                     58197 non-null  uint8  \n",
            " 520  WORK_PROVINCE_daxue                          58197 non-null  uint8  \n",
            " 521  WORK_PROVINCE_dongguan                       58197 non-null  uint8  \n",
            " 522  WORK_PROVINCE_dongguanshi                    58197 non-null  uint8  \n",
            " 523  WORK_PROVINCE_dongjing                       58197 non-null  uint8  \n",
            " 524  WORK_PROVINCE_dongjingdu                     58197 non-null  uint8  \n",
            " 525  WORK_PROVINCE_dushanzi                       58197 non-null  uint8  \n",
            " 526  WORK_PROVINCE_foshan                         58197 non-null  uint8  \n",
            " 527  WORK_PROVINCE_fudao                          58197 non-null  uint8  \n",
            " 528  WORK_PROVINCE_fudaoxian                      58197 non-null  uint8  \n",
            " 529  WORK_PROVINCE_fugang                         58197 non-null  uint8  \n",
            " 530  WORK_PROVINCE_fugangxian                     58197 non-null  uint8  \n",
            " 531  WORK_PROVINCE_fujian                         58197 non-null  uint8  \n",
            " 532  WORK_PROVINCE_fujiansheng                    58197 non-null  uint8  \n",
            " 533  WORK_PROVINCE_fushanxian                     58197 non-null  uint8  \n",
            " 534  WORK_PROVINCE_fuzhou                         58197 non-null  uint8  \n",
            " 535  WORK_PROVINCE_gangshan                       58197 non-null  uint8  \n",
            " 536  WORK_PROVINCE_gangshanxian                   58197 non-null  uint8  \n",
            " 537  WORK_PROVINCE_gansu                          58197 non-null  uint8  \n",
            " 538  WORK_PROVINCE_gansusheng                     58197 non-null  uint8  \n",
            " 539  WORK_PROVINCE_gongqixian                     58197 non-null  uint8  \n",
            " 540  WORK_PROVINCE_guang dong                     58197 non-null  uint8  \n",
            " 541  WORK_PROVINCE_guangdao                       58197 non-null  uint8  \n",
            " 542  WORK_PROVINCE_guangdaoxian                   58197 non-null  uint8  \n",
            " 543  WORK_PROVINCE_guangdong                      58197 non-null  uint8  \n",
            " 544  WORK_PROVINCE_guangdong                      58197 non-null  uint8  \n",
            " 545  WORK_PROVINCE_guangdong.                     58197 non-null  uint8  \n",
            " 546  WORK_PROVINCE_guangdongsheng                 58197 non-null  uint8  \n",
            " 547  WORK_PROVINCE_guangdongsheng`                58197 non-null  uint8  \n",
            " 548  WORK_PROVINCE_guangdongshi                   58197 non-null  uint8  \n",
            " 549  WORK_PROVINCE_guangdongzengcheng             58197 non-null  uint8  \n",
            " 550  WORK_PROVINCE_guangdong　                     58197 non-null  uint8  \n",
            " 551  WORK_PROVINCE_guangdong１                     58197 non-null  uint8  \n",
            " 552  WORK_PROVINCE_guangxi                        58197 non-null  uint8  \n",
            " 553  WORK_PROVINCE_guangxisheng                   58197 non-null  uint8  \n",
            " 554  WORK_PROVINCE_guangxizhuangzuzi              58197 non-null  uint8  \n",
            " 555  WORK_PROVINCE_guangxizhuangzuzizhiqu         58197 non-null  uint8  \n",
            " 556  WORK_PROVINCE_guangxi　                       58197 non-null  uint8  \n",
            " 557  WORK_PROVINCE_guangzhou                      58197 non-null  uint8  \n",
            " 558  WORK_PROVINCE_guangzhoushi                   58197 non-null  uint8  \n",
            " 559  WORK_PROVINCE_guisa                          58197 non-null  uint8  \n",
            " 560  WORK_PROVINCE_guiyang                        58197 non-null  uint8  \n",
            " 561  WORK_PROVINCE_guizhou                        58197 non-null  uint8  \n",
            " 562  WORK_PROVINCE_guizhousheng                   58197 non-null  uint8  \n",
            " 563  WORK_PROVINCE_haerbin                        58197 non-null  uint8  \n",
            " 564  WORK_PROVINCE_haidian                        58197 non-null  uint8  \n",
            " 565  WORK_PROVINCE_haidianqu                      58197 non-null  uint8  \n",
            " 566  WORK_PROVINCE_haikou                         58197 non-null  uint8  \n",
            " 567  WORK_PROVINCE_hainan                         58197 non-null  uint8  \n",
            " 568  WORK_PROVINCE_hainansheng                    58197 non-null  uint8  \n",
            " 569  WORK_PROVINCE_hancheng                       58197 non-null  uint8  \n",
            " 570  WORK_PROVINCE_hanguo                         58197 non-null  uint8  \n",
            " 571  WORK_PROVINCE_hangzhou                       58197 non-null  uint8  \n",
            " 572  WORK_PROVINCE_hangzhoushi                    58197 non-null  uint8  \n",
            " 573  WORK_PROVINCE_hasakesitan                    58197 non-null  uint8  \n",
            " 574  WORK_PROVINCE_hebei                          58197 non-null  uint8  \n",
            " 575  WORK_PROVINCE_hebeisheng                     58197 non-null  uint8  \n",
            " 576  WORK_PROVINCE_heijianglong                   58197 non-null  uint8  \n",
            " 577  WORK_PROVINCE_heilongjiang                   58197 non-null  uint8  \n",
            " 578  WORK_PROVINCE_heilongjiangsheng              58197 non-null  uint8  \n",
            " 579  WORK_PROVINCE_heilongjiang　                  58197 non-null  uint8  \n",
            " 580  WORK_PROVINCE_heinan                         58197 non-null  uint8  \n",
            " 581  WORK_PROVINCE_helongjiang                    58197 non-null  uint8  \n",
            " 582  WORK_PROVINCE_henan                          58197 non-null  uint8  \n",
            " 583  WORK_PROVINCE_henan                          58197 non-null  uint8  \n",
            " 584  WORK_PROVINCE_henansheng                     58197 non-null  uint8  \n",
            " 585  WORK_PROVINCE_hi                             58197 non-null  uint8  \n",
            " 586  WORK_PROVINCE_hiroshima prefecture           58197 non-null  uint8  \n",
            " 587  WORK_PROVINCE_hk                             58197 non-null  uint8  \n",
            " 588  WORK_PROVINCE_hkg                            58197 non-null  uint8  \n",
            " 589  WORK_PROVINCE_hokkaid                        58197 non-null  uint8  \n",
            " 590  WORK_PROVINCE_hong kong                      58197 non-null  uint8  \n",
            " 591  WORK_PROVINCE_hongkong                       58197 non-null  uint8  \n",
            " 592  WORK_PROVINCE_hubei                          58197 non-null  uint8  \n",
            " 593  WORK_PROVINCE_hubeisheng                     58197 non-null  uint8  \n",
            " 594  WORK_PROVINCE_hubeisheng/sichuan             58197 non-null  uint8  \n",
            " 595  WORK_PROVINCE_hubei　                         58197 non-null  uint8  \n",
            " 596  WORK_PROVINCE_hubei、                         58197 non-null  uint8  \n",
            " 597  WORK_PROVINCE_hunan                          58197 non-null  uint8  \n",
            " 598  WORK_PROVINCE_hunansheng                     58197 non-null  uint8  \n",
            " 599  WORK_PROVINCE_incheon                        58197 non-null  uint8  \n",
            " 600  WORK_PROVINCE_ji lin                         58197 non-null  uint8  \n",
            " 601  WORK_PROVINCE_jialifuliya                    58197 non-null  uint8  \n",
            " 602  WORK_PROVINCE_jiang?                         58197 non-null  uint8  \n",
            " 603  WORK_PROVINCE_jiangmen                       58197 non-null  uint8  \n",
            " 604  WORK_PROVINCE_jiangsu                        58197 non-null  uint8  \n",
            " 605  WORK_PROVINCE_jiangsunanjing                 58197 non-null  uint8  \n",
            " 606  WORK_PROVINCE_jiangsusheng                   58197 non-null  uint8  \n",
            " 607  WORK_PROVINCE_jiangxi                        58197 non-null  uint8  \n",
            " 608  WORK_PROVINCE_jiangxisheng                   58197 non-null  uint8  \n",
            " 609  WORK_PROVINCE_jilin                          58197 non-null  uint8  \n",
            " 610  WORK_PROVINCE_jilinsheng                     58197 non-null  uint8  \n",
            " 611  WORK_PROVINCE_jilinsheng,huo:guangdongsheng  58197 non-null  uint8  \n",
            " 612  WORK_PROVINCE_jingdufu                       58197 non-null  uint8  \n",
            " 613  WORK_PROVINCE_jinggangxian                   58197 non-null  uint8  \n",
            " 614  WORK_PROVINCE_jingjidao                      58197 non-null  uint8  \n",
            " 615  WORK_PROVINCE_jingwang                       58197 non-null  uint8  \n",
            " 616  WORK_PROVINCE_jiulong                        58197 non-null  uint8  \n",
            " 617  WORK_PROVINCE_jiuzhou                        58197 non-null  uint8  \n",
            " 618  WORK_PROVINCE_jp                             58197 non-null  uint8  \n",
            " 619  WORK_PROVINCE_kk                             58197 non-null  uint8  \n",
            " 620  WORK_PROVINCE_kowloon                        58197 non-null  uint8  \n",
            " 621  WORK_PROVINCE_kunming                        58197 non-null  uint8  \n",
            " 622  WORK_PROVINCE_lax                            58197 non-null  uint8  \n",
            " 623  WORK_PROVINCE_liao                           58197 non-null  uint8  \n",
            " 624  WORK_PROVINCE_liaoliao                       58197 non-null  uint8  \n",
            " 625  WORK_PROVINCE_liaoning                       58197 non-null  uint8  \n",
            " 626  WORK_PROVINCE_liaoningsheng                  58197 non-null  uint8  \n",
            " 627  WORK_PROVINCE_liaoningshengdalianshi         58197 non-null  uint8  \n",
            " 628  WORK_PROVINCE_liaoningshengshenyangshi       58197 non-null  uint8  \n",
            " 629  WORK_PROVINCE_liaosheng                      58197 non-null  uint8  \n",
            " 630  WORK_PROVINCE_na                             58197 non-null  uint8  \n",
            " 631  WORK_PROVINCE_nailiangxian                   58197 non-null  uint8  \n",
            " 632  WORK_PROVINCE_nanhai                         58197 non-null  uint8  \n",
            " 633  WORK_PROVINCE_nanjing                        58197 non-null  uint8  \n",
            " 634  WORK_PROVINCE_nanjingshi                     58197 non-null  uint8  \n",
            " 635  WORK_PROVINCE_neimeng                        58197 non-null  uint8  \n",
            " 636  WORK_PROVINCE_neimenggu                      58197 non-null  uint8  \n",
            " 637  WORK_PROVINCE_neimengguzizhiqu               58197 non-null  uint8  \n",
            " 638  WORK_PROVINCE_new jersey                     58197 non-null  uint8  \n",
            " 639  WORK_PROVINCE_new york                       58197 non-null  uint8  \n",
            " 640  WORK_PROVINCE_niaoquxian                     58197 non-null  uint8  \n",
            " 641  WORK_PROVINCE_ningbo                         58197 non-null  uint8  \n",
            " 642  WORK_PROVINCE_ningxia                        58197 non-null  uint8  \n",
            " 643  WORK_PROVINCE_ningxiahuizuzi                 58197 non-null  uint8  \n",
            " 644  WORK_PROVINCE_ningxiahuizuzizhiqu            58197 non-null  uint8  \n",
            " 645  WORK_PROVINCE_oh                             58197 non-null  uint8  \n",
            " 646  WORK_PROVINCE_okayamaken                     58197 non-null  uint8  \n",
            " 647  WORK_PROVINCE_ong Kong                       58197 non-null  uint8  \n",
            " 648  WORK_PROVINCE_ontario                        58197 non-null  uint8  \n",
            " 649  WORK_PROVINCE_oska                           58197 non-null  uint8  \n",
            " 650  WORK_PROVINCE_punjab                         58197 non-null  uint8  \n",
            " 651  WORK_PROVINCE_qianye                         58197 non-null  uint8  \n",
            " 652  WORK_PROVINCE_qifuxian                       58197 non-null  uint8  \n",
            " 653  WORK_PROVINCE_qingdao                        58197 non-null  uint8  \n",
            " 654  WORK_PROVINCE_qinghai                        58197 non-null  uint8  \n",
            " 655  WORK_PROVINCE_qinghaisheng                   58197 non-null  uint8  \n",
            " 656  WORK_PROVINCE_qingsen                        58197 non-null  uint8  \n",
            " 657  WORK_PROVINCE_qingsenxian                    58197 non-null  uint8  \n",
            " 658  WORK_PROVINCE_qixian                         58197 non-null  uint8  \n",
            " 659  WORK_PROVINCE_qiyu                           58197 non-null  uint8  \n",
            " 660  WORK_PROVINCE_qiyuxian                       58197 non-null  uint8  \n",
            " 661  WORK_PROVINCE_quanzhou                       58197 non-null  uint8  \n",
            " 662  WORK_PROVINCE_qunmaxian                      58197 non-null  uint8  \n",
            " 663  WORK_PROVINCE_riben                          58197 non-null  uint8  \n",
            " 664  WORK_PROVINCE_ribenguo                       58197 non-null  uint8  \n",
            " 665  WORK_PROVINCE_rixiang                        58197 non-null  uint8  \n",
            " 666  WORK_PROVINCE_sanzhongxian                   58197 non-null  uint8  \n",
            " 667  WORK_PROVINCE_sel                            58197 non-null  uint8  \n",
            " 668  WORK_PROVINCE_seoul                          58197 non-null  uint8  \n",
            " 669  WORK_PROVINCE_shamen                         58197 non-null  uint8  \n",
            " 670  WORK_PROVINCE_shamenshi                      58197 non-null  uint8  \n",
            " 671  WORK_PROVINCE_shandong                       58197 non-null  uint8  \n",
            " 672  WORK_PROVINCE_shandongsheng                  58197 non-null  uint8  \n",
            " 673  WORK_PROVINCE_shanghai                       58197 non-null  uint8  \n",
            " 674  WORK_PROVINCE_shanghai22                     58197 non-null  uint8  \n",
            " 675  WORK_PROVINCE_shanghaishi                    58197 non-null  uint8  \n",
            " 676  WORK_PROVINCE_shanghaishi·                   58197 non-null  uint8  \n",
            " 677  WORK_PROVINCE_shanghai　                      58197 non-null  uint8  \n",
            " 678  WORK_PROVINCE_shankouxian                    58197 non-null  uint8  \n",
            " 679  WORK_PROVINCE_shanxi                         58197 non-null  uint8  \n",
            " 680  WORK_PROVINCE_shanxingxian                   58197 non-null  uint8  \n",
            " 681  WORK_PROVINCE_shanxisheng                    58197 non-null  uint8  \n",
            " 682  WORK_PROVINCE_shennaichuan                   58197 non-null  uint8  \n",
            " 683  WORK_PROVINCE_shennaichuan?                  58197 non-null  uint8  \n",
            " 684  WORK_PROVINCE_shennaichuanxian               58197 non-null  uint8  \n",
            " 685  WORK_PROVINCE_shenyang                       58197 non-null  uint8  \n",
            " 686  WORK_PROVINCE_shenyangshi                    58197 non-null  uint8  \n",
            " 687  WORK_PROVINCE_shenzhen                       58197 non-null  uint8  \n",
            " 688  WORK_PROVINCE_shenzhenshi                    58197 non-null  uint8  \n",
            " 689  WORK_PROVINCE_shichuanxian                   58197 non-null  uint8  \n",
            " 690  WORK_PROVINCE_sichuan                        58197 non-null  uint8  \n",
            " 691  WORK_PROVINCE_sichuansheng                   58197 non-null  uint8  \n",
            " 692  WORK_PROVINCE_songbenshi                     58197 non-null  uint8  \n",
            " 693  WORK_PROVINCE_suzhou                         58197 non-null  uint8  \n",
            " 694  WORK_PROVINCE_tai?                           58197 non-null  uint8  \n",
            " 695  WORK_PROVINCE_taibei                         58197 non-null  uint8  \n",
            " 696  WORK_PROVINCE_taiwan                         58197 non-null  uint8  \n",
            " 697  WORK_PROVINCE_taiwansheng                    58197 non-null  uint8  \n",
            " 698  WORK_PROVINCE_taiwantaipei                   58197 non-null  uint8  \n",
            " 699  WORK_PROVINCE_texas                          58197 non-null  uint8  \n",
            " 700  WORK_PROVINCE_tianjin                        58197 non-null  uint8  \n",
            " 701  WORK_PROVINCE_tianjinshi                     58197 non-null  uint8  \n",
            " 702  WORK_PROVINCE_toukyou-to                     58197 non-null  uint8  \n",
            " 703  WORK_PROVINCE_tseung kwano                   58197 non-null  uint8  \n",
            " 704  WORK_PROVINCE_us                             58197 non-null  uint8  \n",
            " 705  WORK_PROVINCE_usa                            58197 non-null  uint8  \n",
            " 706  WORK_PROVINCE_wenzhou                        58197 non-null  uint8  \n",
            " 707  WORK_PROVINCE_wu                             58197 non-null  uint8  \n",
            " 708  WORK_PROVINCE_wuhan                          58197 non-null  uint8  \n",
            " 709  WORK_PROVINCE_wuhanshi                       58197 non-null  uint8  \n",
            " 710  WORK_PROVINCE_wulumuqi                       58197 non-null  uint8  \n",
            " 711  WORK_PROVINCE_wuzibiekesitan                 58197 non-null  uint8  \n",
            " 712  WORK_PROVINCE_xian                           58197 non-null  uint8  \n",
            " 713  WORK_PROVINCE_xiangchuanxian                 58197 non-null  uint8  \n",
            " 714  WORK_PROVINCE_xianggang                      58197 non-null  uint8  \n",
            " 715  WORK_PROVINCE_xianggangtebiexingzhengqu      58197 non-null  uint8  \n",
            " 716  WORK_PROVINCE_xianggang　                     58197 non-null  uint8  \n",
            " 717  WORK_PROVINCE_xianshi                        58197 non-null  uint8  \n",
            " 718  WORK_PROVINCE_xiaogan                        58197 non-null  uint8  \n",
            " 719  WORK_PROVINCE_xicang                         58197 non-null  uint8  \n",
            " 720  WORK_PROVINCE_xicangzizhiqu                  58197 non-null  uint8  \n",
            " 721  WORK_PROVINCE_xijiang                        58197 non-null  uint8  \n",
            " 722  WORK_PROVINCE_xin jiang                      58197 non-null  uint8  \n",
            " 723  WORK_PROVINCE_xinjiang                       58197 non-null  uint8  \n",
            " 724  WORK_PROVINCE_xinjiang`                      58197 non-null  uint8  \n",
            " 725  WORK_PROVINCE_xinjiangkezhou                 58197 non-null  uint8  \n",
            " 726  WORK_PROVINCE_xinjiangsheng                  58197 non-null  uint8  \n",
            " 727  WORK_PROVINCE_xinjiangweiwuer                58197 non-null  uint8  \n",
            " 728  WORK_PROVINCE_xinjiangweiwuerzizhiqu         58197 non-null  uint8  \n",
            " 729  WORK_PROVINCE_xinjiangzizhiqu                58197 non-null  uint8  \n",
            " 730  WORK_PROVINCE_xinjie                         58197 non-null  uint8  \n",
            " 731  WORK_PROVINCE_xinqiang                       58197 non-null  uint8  \n",
            " 732  WORK_PROVINCE_xinxie                         58197 non-null  uint8  \n",
            " 733  WORK_PROVINCE_xinxixian                      58197 non-null  uint8  \n",
            " 734  WORK_PROVINCE_xuchang                        58197 non-null  uint8  \n",
            " 735  WORK_PROVINCE_xuzhou                         58197 non-null  uint8  \n",
            " 736  WORK_PROVINCE_yining                         58197 non-null  uint8  \n",
            " 737  WORK_PROVINCE_yunnan                         58197 non-null  uint8  \n",
            " 738  WORK_PROVINCE_yunnansheng                    58197 non-null  uint8  \n",
            " 739  WORK_PROVINCE_z.h                            58197 non-null  uint8  \n",
            " 740  WORK_PROVINCE_zhaoqing                       58197 non-null  uint8  \n",
            " 741  WORK_PROVINCE_zhaoyang                       58197 non-null  uint8  \n",
            " 742  WORK_PROVINCE_zhejiang                       58197 non-null  uint8  \n",
            " 743  WORK_PROVINCE_zhejiangsheng                  58197 non-null  uint8  \n",
            " 744  WORK_PROVINCE_zhengzhou                      58197 non-null  uint8  \n",
            " 745  WORK_PROVINCE_zhengzhoushi                   58197 non-null  uint8  \n",
            " 746  WORK_PROVINCE_zhifushi                       58197 non-null  uint8  \n",
            " 747  WORK_PROVINCE_zhixiashi                      58197 non-null  uint8  \n",
            " 748  WORK_PROVINCE_zhongguo                       58197 non-null  uint8  \n",
            " 749  WORK_PROVINCE_zhongguo guangdongsheng        58197 non-null  uint8  \n",
            " 750  WORK_PROVINCE_zhongguoliaoningsheng          58197 non-null  uint8  \n",
            " 751  WORK_PROVINCE_zhongguotaiwan                 58197 non-null  uint8  \n",
            " 752  WORK_PROVINCE_zhongjin                       58197 non-null  uint8  \n",
            " 753  WORK_PROVINCE_zhongqing                      58197 non-null  uint8  \n",
            " 754  WORK_PROVINCE_zhongqingshi                   58197 non-null  uint8  \n",
            " 755  WORK_PROVINCE_zhuhai                         58197 non-null  uint8  \n",
            " 756  WORK_PROVINCE_——                             58197 non-null  uint8  \n",
            " 757  WORK_PROVINCE_　                              58197 non-null  uint8  \n",
            " 758  WORK_PROVINCE_　　                             58197 non-null  uint8  \n",
            " 759  WORK_PROVINCE_。                              58197 non-null  uint8  \n",
            " 760  WORK_PROVINCE_shanxian                      58197 non-null  uint8  \n",
            " 761  WORK_PROVINCE_－                              58197 non-null  uint8  \n",
            " 762  WORK_PROVINCE_．                              58197 non-null  uint8  \n",
            " 763  GENDER_Female                                58197 non-null  uint8  \n",
            " 764  GENDER_Male                                  58197 non-null  uint8  \n",
            "dtypes: float64(5), int64(9), uint8(751)\n",
            "memory usage: 47.9 MB\n"
          ]
        }
      ]
    },
    {
      "cell_type": "markdown",
      "source": [
        "Preprocessing the data"
      ],
      "metadata": {
        "id": "jJLZZiUz6YMB"
      }
    },
    {
      "cell_type": "code",
      "source": [
        "from sklearn.preprocessing import StandardScaler"
      ],
      "metadata": {
        "id": "EAtNZtmQ6URx"
      },
      "execution_count": 55,
      "outputs": []
    },
    {
      "cell_type": "code",
      "source": [
        "SS = StandardScaler()"
      ],
      "metadata": {
        "id": "AIk6MHHh6mzd"
      },
      "execution_count": 56,
      "outputs": []
    },
    {
      "cell_type": "code",
      "source": [
        "data = SS.fit_transform (data)"
      ],
      "metadata": {
        "id": "8SlfELJP6yr2"
      },
      "execution_count": 58,
      "outputs": []
    },
    {
      "cell_type": "code",
      "source": [
        "from sklearn.cluster import KMeans"
      ],
      "metadata": {
        "id": "jY2RAMVU6tLC"
      },
      "execution_count": 57,
      "outputs": []
    },
    {
      "cell_type": "code",
      "source": [
        "km = KMeans()"
      ],
      "metadata": {
        "id": "qQaKDpKC6xFU"
      },
      "execution_count": 63,
      "outputs": []
    },
    {
      "cell_type": "code",
      "source": [
        "y_km = km.fit_predict(data)"
      ],
      "metadata": {
        "colab": {
          "base_uri": "https://localhost:8080/"
        },
        "id": "Db5PDHB06_-9",
        "outputId": "54e1c4b5-e7f0-451d-e955-3227b9b4c838"
      },
      "execution_count": 64,
      "outputs": [
        {
          "output_type": "stream",
          "name": "stderr",
          "text": [
            "/usr/local/lib/python3.10/dist-packages/sklearn/cluster/_kmeans.py:870: FutureWarning: The default value of `n_init` will change from 10 to 'auto' in 1.4. Set the value of `n_init` explicitly to suppress the warning\n",
            "  warnings.warn(\n"
          ]
        }
      ]
    },
    {
      "cell_type": "code",
      "source": [
        "y_km[0:10]"
      ],
      "metadata": {
        "colab": {
          "base_uri": "https://localhost:8080/"
        },
        "id": "dRDOcdxf58sk",
        "outputId": "cc5eb1a2-a618-492f-a6b2-3faf2575d809"
      },
      "execution_count": 65,
      "outputs": [
        {
          "output_type": "execute_result",
          "data": {
            "text/plain": [
              "array([3, 3, 3, 3, 3, 3, 3, 3, 3, 3], dtype=int32)"
            ]
          },
          "metadata": {},
          "execution_count": 65
        }
      ]
    },
    {
      "cell_type": "code",
      "source": [
        "inertias = []"
      ],
      "metadata": {
        "id": "YTvkDA3j7w9a"
      },
      "execution_count": 66,
      "outputs": []
    },
    {
      "cell_type": "code",
      "source": [
        "for k in range (1,11):\n",
        "  km = KMeans(n_clusters = k, random_state = 10)\n",
        "  km.fit(data)\n",
        "  inertias.append(km.inertia_)\n"
      ],
      "metadata": {
        "colab": {
          "base_uri": "https://localhost:8080/"
        },
        "id": "2_m9ZoyW7z01",
        "outputId": "9888f5f7-d03b-480a-8acc-cd48171a12f2"
      },
      "execution_count": 68,
      "outputs": [
        {
          "output_type": "stream",
          "name": "stderr",
          "text": [
            "/usr/local/lib/python3.10/dist-packages/sklearn/cluster/_kmeans.py:870: FutureWarning: The default value of `n_init` will change from 10 to 'auto' in 1.4. Set the value of `n_init` explicitly to suppress the warning\n",
            "  warnings.warn(\n",
            "/usr/local/lib/python3.10/dist-packages/sklearn/cluster/_kmeans.py:870: FutureWarning: The default value of `n_init` will change from 10 to 'auto' in 1.4. Set the value of `n_init` explicitly to suppress the warning\n",
            "  warnings.warn(\n",
            "/usr/local/lib/python3.10/dist-packages/sklearn/cluster/_kmeans.py:870: FutureWarning: The default value of `n_init` will change from 10 to 'auto' in 1.4. Set the value of `n_init` explicitly to suppress the warning\n",
            "  warnings.warn(\n",
            "/usr/local/lib/python3.10/dist-packages/sklearn/cluster/_kmeans.py:870: FutureWarning: The default value of `n_init` will change from 10 to 'auto' in 1.4. Set the value of `n_init` explicitly to suppress the warning\n",
            "  warnings.warn(\n",
            "/usr/local/lib/python3.10/dist-packages/sklearn/cluster/_kmeans.py:870: FutureWarning: The default value of `n_init` will change from 10 to 'auto' in 1.4. Set the value of `n_init` explicitly to suppress the warning\n",
            "  warnings.warn(\n",
            "/usr/local/lib/python3.10/dist-packages/sklearn/cluster/_kmeans.py:870: FutureWarning: The default value of `n_init` will change from 10 to 'auto' in 1.4. Set the value of `n_init` explicitly to suppress the warning\n",
            "  warnings.warn(\n",
            "/usr/local/lib/python3.10/dist-packages/sklearn/cluster/_kmeans.py:870: FutureWarning: The default value of `n_init` will change from 10 to 'auto' in 1.4. Set the value of `n_init` explicitly to suppress the warning\n",
            "  warnings.warn(\n",
            "/usr/local/lib/python3.10/dist-packages/sklearn/cluster/_kmeans.py:870: FutureWarning: The default value of `n_init` will change from 10 to 'auto' in 1.4. Set the value of `n_init` explicitly to suppress the warning\n",
            "  warnings.warn(\n",
            "/usr/local/lib/python3.10/dist-packages/sklearn/cluster/_kmeans.py:870: FutureWarning: The default value of `n_init` will change from 10 to 'auto' in 1.4. Set the value of `n_init` explicitly to suppress the warning\n",
            "  warnings.warn(\n",
            "/usr/local/lib/python3.10/dist-packages/sklearn/cluster/_kmeans.py:870: FutureWarning: The default value of `n_init` will change from 10 to 'auto' in 1.4. Set the value of `n_init` explicitly to suppress the warning\n",
            "  warnings.warn(\n"
          ]
        }
      ]
    },
    {
      "cell_type": "code",
      "source": [
        "inertias"
      ],
      "metadata": {
        "colab": {
          "base_uri": "https://localhost:8080/"
        },
        "id": "9bpXhZab8aOS",
        "outputId": "6d760b98-597c-4a83-985b-4e6ef7f2e4be"
      },
      "execution_count": 70,
      "outputs": [
        {
          "output_type": "execute_result",
          "data": {
            "text/plain": [
              "[44520705.000000104,\n",
              " 44461580.38126862,\n",
              " 44218886.375277765,\n",
              " 44176557.150387466,\n",
              " 44112438.616218284,\n",
              " 44004839.97973259,\n",
              " 43949059.64926295,\n",
              " 43933188.04880229,\n",
              " 43829314.57810755,\n",
              " 43767098.13622257]"
            ]
          },
          "metadata": {},
          "execution_count": 70
        }
      ]
    },
    {
      "cell_type": "markdown",
      "source": [
        "Visualize the data"
      ],
      "metadata": {
        "id": "RE_9dxYE8hTB"
      }
    },
    {
      "cell_type": "code",
      "source": [
        "import matplotlib.pyplot as plt"
      ],
      "metadata": {
        "id": "REW8y-ft8gaz"
      },
      "execution_count": 71,
      "outputs": []
    },
    {
      "cell_type": "code",
      "source": [
        "plt.plot(range(1,11), inertias, marker = 'o')\n",
        "plt.xlabel('k')\n",
        "plt.ylabel('obj')"
      ],
      "metadata": {
        "colab": {
          "base_uri": "https://localhost:8080/",
          "height": 482
        },
        "id": "JHF92Ms88s_t",
        "outputId": "d6c53292-6546-441d-e669-c3d8fead756f"
      },
      "execution_count": 72,
      "outputs": [
        {
          "output_type": "execute_result",
          "data": {
            "text/plain": [
              "Text(0, 0.5, 'obj')"
            ]
          },
          "metadata": {},
          "execution_count": 72
        },
        {
          "output_type": "display_data",
          "data": {
            "text/plain": [
              "<Figure size 640x480 with 1 Axes>"
            ],
            "image/png": "[encoded data removed]"
          },
          "metadata": {}
        }
      ]
    },
    {
      "cell_type": "code",
      "source": [
        "#Above graph shows that data don't have good clustering so elbow not formed"
      ],
      "metadata": {
        "id": "ye3vVbuG9XTV"
      },
      "execution_count": null,
      "outputs": []
    },
    {
      "cell_type": "code",
      "source": [
        "from sklearn.metrics import silhouette_score"
      ],
      "metadata": {
        "id": "CC2QHBhu9gAm"
      },
      "execution_count": 74,
      "outputs": []
    },
    {
      "cell_type": "code",
      "source": [
        "# Silhouette score is the measure of how similar a data point is within the cluster compared to other clusters"
      ],
      "metadata": {
        "id": "gcrhKZjC9mHh"
      },
      "execution_count": null,
      "outputs": []
    },
    {
      "cell_type": "code",
      "source": [
        "silhouette_scores = []\n",
        "inertias = []"
      ],
      "metadata": {
        "id": "rh3NYZuv-o_G"
      },
      "execution_count": 82,
      "outputs": []
    },
    {
      "cell_type": "code",
      "source": [
        "for k in range(2,11):\n",
        "  km = KMeans(n_clusters = k, random_state = 10)\n",
        "  y_km = km.fit_predict(data)\n",
        "  inertias.append(km.inertia_)\n",
        "  silhouette_scores.append(silhouette_score(data, y_km))"
      ],
      "metadata": {
        "colab": {
          "base_uri": "https://localhost:8080/"
        },
        "id": "f07tw6V6-F4z",
        "outputId": "69a5c04f-996f-41f4-e0de-c051a49dbea6"
      },
      "execution_count": 84,
      "outputs": [
        {
          "output_type": "stream",
          "name": "stderr",
          "text": [
            "/usr/local/lib/python3.10/dist-packages/sklearn/cluster/_kmeans.py:870: FutureWarning: The default value of `n_init` will change from 10 to 'auto' in 1.4. Set the value of `n_init` explicitly to suppress the warning\n",
            "  warnings.warn(\n",
            "/usr/local/lib/python3.10/dist-packages/sklearn/cluster/_kmeans.py:870: FutureWarning: The default value of `n_init` will change from 10 to 'auto' in 1.4. Set the value of `n_init` explicitly to suppress the warning\n",
            "  warnings.warn(\n",
            "/usr/local/lib/python3.10/dist-packages/sklearn/cluster/_kmeans.py:870: FutureWarning: The default value of `n_init` will change from 10 to 'auto' in 1.4. Set the value of `n_init` explicitly to suppress the warning\n",
            "  warnings.warn(\n",
            "/usr/local/lib/python3.10/dist-packages/sklearn/cluster/_kmeans.py:870: FutureWarning: The default value of `n_init` will change from 10 to 'auto' in 1.4. Set the value of `n_init` explicitly to suppress the warning\n",
            "  warnings.warn(\n",
            "/usr/local/lib/python3.10/dist-packages/sklearn/cluster/_kmeans.py:870: FutureWarning: The default value of `n_init` will change from 10 to 'auto' in 1.4. Set the value of `n_init` explicitly to suppress the warning\n",
            "  warnings.warn(\n",
            "/usr/local/lib/python3.10/dist-packages/sklearn/cluster/_kmeans.py:870: FutureWarning: The default value of `n_init` will change from 10 to 'auto' in 1.4. Set the value of `n_init` explicitly to suppress the warning\n",
            "  warnings.warn(\n",
            "/usr/local/lib/python3.10/dist-packages/sklearn/cluster/_kmeans.py:870: FutureWarning: The default value of `n_init` will change from 10 to 'auto' in 1.4. Set the value of `n_init` explicitly to suppress the warning\n",
            "  warnings.warn(\n",
            "/usr/local/lib/python3.10/dist-packages/sklearn/cluster/_kmeans.py:870: FutureWarning: The default value of `n_init` will change from 10 to 'auto' in 1.4. Set the value of `n_init` explicitly to suppress the warning\n",
            "  warnings.warn(\n",
            "/usr/local/lib/python3.10/dist-packages/sklearn/cluster/_kmeans.py:870: FutureWarning: The default value of `n_init` will change from 10 to 'auto' in 1.4. Set the value of `n_init` explicitly to suppress the warning\n",
            "  warnings.warn(\n"
          ]
        }
      ]
    },
    {
      "cell_type": "code",
      "source": [
        "silhouette_scores"
      ],
      "metadata": {
        "colab": {
          "base_uri": "https://localhost:8080/"
        },
        "id": "GyfGAtr0-fSr",
        "outputId": "edc7d941-517b-4b89-bb7f-bfe3515a4910"
      },
      "execution_count": 85,
      "outputs": [
        {
          "output_type": "execute_result",
          "data": {
            "text/plain": [
              "[-0.0351414814794318,\n",
              " 0.03636884462874338,\n",
              " -0.096516735715784,\n",
              " 0.16624001159555013,\n",
              " -0.004781911498033596,\n",
              " -0.015419352089696735,\n",
              " -0.09725955459095037,\n",
              " -0.0023944834405037457,\n",
              " -0.0016887580245448094]"
            ]
          },
          "metadata": {},
          "execution_count": 85
        }
      ]
    },
    {
      "cell_type": "code",
      "source": [
        "# Best value : 0.16624\n",
        "# Worst value: -0.097"
      ],
      "metadata": {
        "id": "s3buSMGjIjpM"
      },
      "execution_count": null,
      "outputs": []
    }
  ]
}